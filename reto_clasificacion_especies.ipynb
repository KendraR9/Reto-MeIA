{
  "cells": [
    {
      "cell_type": "markdown",
      "metadata": {
        "id": "view-in-github",
        "colab_type": "text"
      },
      "source": [
        "<a href=\"https://colab.research.google.com/github/KendraR9/Reto-MeIA/blob/main/reto_clasificacion_especies.ipynb\" target=\"_parent\"><img src=\"https://colab.research.google.com/assets/colab-badge.svg\" alt=\"Open In Colab\"/></a>"
      ]
    },
    {
      "cell_type": "markdown",
      "id": "001ee54a-9275-4e35-8193-ea264d43b7ec",
      "metadata": {
        "tags": [],
        "id": "001ee54a-9275-4e35-8193-ea264d43b7ec"
      },
      "source": [
        "# 1. Desafío de clasificación de especies"
      ]
    },
    {
      "cell_type": "markdown",
      "id": "9985f712-f265-4a88-9521-66409e8a46e9",
      "metadata": {
        "tags": [],
        "id": "9985f712-f265-4a88-9521-66409e8a46e9"
      },
      "source": [
        "## Objetivo:\n",
        "Encontrar el método de aprendizaje automático supervisado que muestra mayor eficacia para clasificar especies a partir de secuencias de código de barras de ADN.\n",
        "\n",
        "## Propuesta:\n",
        "Se cuenta con un método disponible (randomforest classifier) cuya eficacia ya es muy buena, por lo que es posible realizar un tratamiento de los datos antes de utilizar el método para:\n",
        "- Disminuir el consumo de recursos computacionales\n",
        "- Mejorar la eficacia del método con el que se cuenta\n",
        "- Automatizar en mayor medida posible el flujo de trabajo"
      ]
    },
    {
      "cell_type": "markdown",
      "id": "45449b83-edd9-4823-80ef-58e73c6af0f4",
      "metadata": {
        "id": "45449b83-edd9-4823-80ef-58e73c6af0f4"
      },
      "source": [
        "Comenzamos instalando Biopython y las librerias necesarias para realizar el tratamiento de datos:"
      ]
    },
    {
      "cell_type": "code",
      "execution_count": 1,
      "id": "7297fc70-1111-4130-a967-aa3a9bc3c388",
      "metadata": {
        "tags": [],
        "colab": {
          "base_uri": "https://localhost:8080/"
        },
        "id": "7297fc70-1111-4130-a967-aa3a9bc3c388",
        "outputId": "03c79022-617c-4238-ffde-15f2afde30dc"
      },
      "outputs": [
        {
          "output_type": "stream",
          "name": "stdout",
          "text": [
            "Requirement already satisfied: biopython in /usr/local/lib/python3.10/dist-packages (1.81)\n",
            "Requirement already satisfied: numpy in /usr/local/lib/python3.10/dist-packages (from biopython) (1.22.4)\n"
          ]
        }
      ],
      "source": [
        "!pip install biopython"
      ]
    },
    {
      "cell_type": "code",
      "execution_count": 2,
      "id": "a3e4bed1-8072-44b4-a290-1068a5becb30",
      "metadata": {
        "tags": [],
        "id": "a3e4bed1-8072-44b4-a290-1068a5becb30"
      },
      "outputs": [],
      "source": [
        "import Bio\n",
        "import pandas as pd\n",
        "from Bio.Seq import Seq\n",
        "from Bio.SeqRecord import SeqRecord\n",
        "from Bio import SeqIO\n",
        "from Bio import Align\n",
        "from Bio import AlignIO"
      ]
    },
    {
      "cell_type": "markdown",
      "source": [
        "Importamos los archivos FASTA con los conjuntos de entrenamiento y prueba:"
      ],
      "metadata": {
        "id": "mtpDpCRgscF2"
      },
      "id": "mtpDpCRgscF2"
    },
    {
      "cell_type": "code",
      "source": [
        "from google.colab import files\n",
        "upload = files.upload()"
      ],
      "metadata": {
        "colab": {
          "base_uri": "https://localhost:8080/",
          "height": 107
        },
        "id": "HD1EYtkksToc",
        "outputId": "d5b89e06-8170-4746-96ae-62f42f09dfde"
      },
      "id": "HD1EYtkksToc",
      "execution_count": 3,
      "outputs": [
        {
          "output_type": "display_data",
          "data": {
            "text/plain": [
              "<IPython.core.display.HTML object>"
            ],
            "text/html": [
              "\n",
              "     <input type=\"file\" id=\"files-8f75cb8e-926b-4405-8836-37b30745cb23\" name=\"files[]\" multiple disabled\n",
              "        style=\"border:none\" />\n",
              "     <output id=\"result-8f75cb8e-926b-4405-8836-37b30745cb23\">\n",
              "      Upload widget is only available when the cell has been executed in the\n",
              "      current browser session. Please rerun this cell to enable.\n",
              "      </output>\n",
              "      <script>// Copyright 2017 Google LLC\n",
              "//\n",
              "// Licensed under the Apache License, Version 2.0 (the \"License\");\n",
              "// you may not use this file except in compliance with the License.\n",
              "// You may obtain a copy of the License at\n",
              "//\n",
              "//      http://www.apache.org/licenses/LICENSE-2.0\n",
              "//\n",
              "// Unless required by applicable law or agreed to in writing, software\n",
              "// distributed under the License is distributed on an \"AS IS\" BASIS,\n",
              "// WITHOUT WARRANTIES OR CONDITIONS OF ANY KIND, either express or implied.\n",
              "// See the License for the specific language governing permissions and\n",
              "// limitations under the License.\n",
              "\n",
              "/**\n",
              " * @fileoverview Helpers for google.colab Python module.\n",
              " */\n",
              "(function(scope) {\n",
              "function span(text, styleAttributes = {}) {\n",
              "  const element = document.createElement('span');\n",
              "  element.textContent = text;\n",
              "  for (const key of Object.keys(styleAttributes)) {\n",
              "    element.style[key] = styleAttributes[key];\n",
              "  }\n",
              "  return element;\n",
              "}\n",
              "\n",
              "// Max number of bytes which will be uploaded at a time.\n",
              "const MAX_PAYLOAD_SIZE = 100 * 1024;\n",
              "\n",
              "function _uploadFiles(inputId, outputId) {\n",
              "  const steps = uploadFilesStep(inputId, outputId);\n",
              "  const outputElement = document.getElementById(outputId);\n",
              "  // Cache steps on the outputElement to make it available for the next call\n",
              "  // to uploadFilesContinue from Python.\n",
              "  outputElement.steps = steps;\n",
              "\n",
              "  return _uploadFilesContinue(outputId);\n",
              "}\n",
              "\n",
              "// This is roughly an async generator (not supported in the browser yet),\n",
              "// where there are multiple asynchronous steps and the Python side is going\n",
              "// to poll for completion of each step.\n",
              "// This uses a Promise to block the python side on completion of each step,\n",
              "// then passes the result of the previous step as the input to the next step.\n",
              "function _uploadFilesContinue(outputId) {\n",
              "  const outputElement = document.getElementById(outputId);\n",
              "  const steps = outputElement.steps;\n",
              "\n",
              "  const next = steps.next(outputElement.lastPromiseValue);\n",
              "  return Promise.resolve(next.value.promise).then((value) => {\n",
              "    // Cache the last promise value to make it available to the next\n",
              "    // step of the generator.\n",
              "    outputElement.lastPromiseValue = value;\n",
              "    return next.value.response;\n",
              "  });\n",
              "}\n",
              "\n",
              "/**\n",
              " * Generator function which is called between each async step of the upload\n",
              " * process.\n",
              " * @param {string} inputId Element ID of the input file picker element.\n",
              " * @param {string} outputId Element ID of the output display.\n",
              " * @return {!Iterable<!Object>} Iterable of next steps.\n",
              " */\n",
              "function* uploadFilesStep(inputId, outputId) {\n",
              "  const inputElement = document.getElementById(inputId);\n",
              "  inputElement.disabled = false;\n",
              "\n",
              "  const outputElement = document.getElementById(outputId);\n",
              "  outputElement.innerHTML = '';\n",
              "\n",
              "  const pickedPromise = new Promise((resolve) => {\n",
              "    inputElement.addEventListener('change', (e) => {\n",
              "      resolve(e.target.files);\n",
              "    });\n",
              "  });\n",
              "\n",
              "  const cancel = document.createElement('button');\n",
              "  inputElement.parentElement.appendChild(cancel);\n",
              "  cancel.textContent = 'Cancel upload';\n",
              "  const cancelPromise = new Promise((resolve) => {\n",
              "    cancel.onclick = () => {\n",
              "      resolve(null);\n",
              "    };\n",
              "  });\n",
              "\n",
              "  // Wait for the user to pick the files.\n",
              "  const files = yield {\n",
              "    promise: Promise.race([pickedPromise, cancelPromise]),\n",
              "    response: {\n",
              "      action: 'starting',\n",
              "    }\n",
              "  };\n",
              "\n",
              "  cancel.remove();\n",
              "\n",
              "  // Disable the input element since further picks are not allowed.\n",
              "  inputElement.disabled = true;\n",
              "\n",
              "  if (!files) {\n",
              "    return {\n",
              "      response: {\n",
              "        action: 'complete',\n",
              "      }\n",
              "    };\n",
              "  }\n",
              "\n",
              "  for (const file of files) {\n",
              "    const li = document.createElement('li');\n",
              "    li.append(span(file.name, {fontWeight: 'bold'}));\n",
              "    li.append(span(\n",
              "        `(${file.type || 'n/a'}) - ${file.size} bytes, ` +\n",
              "        `last modified: ${\n",
              "            file.lastModifiedDate ? file.lastModifiedDate.toLocaleDateString() :\n",
              "                                    'n/a'} - `));\n",
              "    const percent = span('0% done');\n",
              "    li.appendChild(percent);\n",
              "\n",
              "    outputElement.appendChild(li);\n",
              "\n",
              "    const fileDataPromise = new Promise((resolve) => {\n",
              "      const reader = new FileReader();\n",
              "      reader.onload = (e) => {\n",
              "        resolve(e.target.result);\n",
              "      };\n",
              "      reader.readAsArrayBuffer(file);\n",
              "    });\n",
              "    // Wait for the data to be ready.\n",
              "    let fileData = yield {\n",
              "      promise: fileDataPromise,\n",
              "      response: {\n",
              "        action: 'continue',\n",
              "      }\n",
              "    };\n",
              "\n",
              "    // Use a chunked sending to avoid message size limits. See b/62115660.\n",
              "    let position = 0;\n",
              "    do {\n",
              "      const length = Math.min(fileData.byteLength - position, MAX_PAYLOAD_SIZE);\n",
              "      const chunk = new Uint8Array(fileData, position, length);\n",
              "      position += length;\n",
              "\n",
              "      const base64 = btoa(String.fromCharCode.apply(null, chunk));\n",
              "      yield {\n",
              "        response: {\n",
              "          action: 'append',\n",
              "          file: file.name,\n",
              "          data: base64,\n",
              "        },\n",
              "      };\n",
              "\n",
              "      let percentDone = fileData.byteLength === 0 ?\n",
              "          100 :\n",
              "          Math.round((position / fileData.byteLength) * 100);\n",
              "      percent.textContent = `${percentDone}% done`;\n",
              "\n",
              "    } while (position < fileData.byteLength);\n",
              "  }\n",
              "\n",
              "  // All done.\n",
              "  yield {\n",
              "    response: {\n",
              "      action: 'complete',\n",
              "    }\n",
              "  };\n",
              "}\n",
              "\n",
              "scope.google = scope.google || {};\n",
              "scope.google.colab = scope.google.colab || {};\n",
              "scope.google.colab._files = {\n",
              "  _uploadFiles,\n",
              "  _uploadFilesContinue,\n",
              "};\n",
              "})(self);\n",
              "</script> "
            ]
          },
          "metadata": {}
        },
        {
          "output_type": "stream",
          "name": "stdout",
          "text": [
            "Saving Drosophila_train.fasta to Drosophila_train (1).fasta\n",
            "Saving Drosophila_test.fasta to Drosophila_test (1).fasta\n"
          ]
        }
      ]
    },
    {
      "cell_type": "markdown",
      "id": "5e96e26c-415c-424d-9a60-b2d2e1b6c3f7",
      "metadata": {
        "tags": [],
        "id": "5e96e26c-415c-424d-9a60-b2d2e1b6c3f7"
      },
      "source": [
        "# 2. Conjunto de prueba"
      ]
    },
    {
      "cell_type": "markdown",
      "id": "595f7365-2b38-4a2b-9c1c-fb5ef485b9cd",
      "metadata": {
        "id": "595f7365-2b38-4a2b-9c1c-fb5ef485b9cd"
      },
      "source": [
        "Se buscó automatizar la lectura de los archivos en formato FASTA, anexar secuencias auxiliares que serán necesarias al momento de realizar _one-hot encoding_. Así mismo, se realizó un alineamiento múltiple de las secuencias y se generó el archivo .aln que puede ser abierto en cualquier programa para realizar alineamientos. Esto permite ubicar los sitios conservados a lo largo de las secuencias.\n",
        "\n",
        "Para esto, se trabajó principalmente en Biopython y sus respectivos módulos."
      ]
    },
    {
      "cell_type": "code",
      "execution_count": 4,
      "id": "86b8dd94-8cde-4af5-9dd3-0bf7fe6297aa",
      "metadata": {
        "tags": [],
        "id": "86b8dd94-8cde-4af5-9dd3-0bf7fe6297aa"
      },
      "outputs": [],
      "source": [
        "\"\"\"\n",
        "Preparando secuencias para alineamiento\n",
        "\n",
        "\"\"\"\n",
        "# Generando listas vacías para los identificadores y las secuencias a insertar\n",
        "\n",
        "idt = []\n",
        "seqs = []\n",
        "name = []\n",
        "for record in SeqIO.parse('Drosophila_test.fasta', \"fasta\"):\n",
        "    idt.append(record.id.split('|')[2])\n",
        "    seqs.append(record.seq)\n",
        "    name.append(record.name)\n",
        "\n",
        "\"\"\"\n",
        "Escribimos una funcion que lee la primera secuencia de nuestra lista\n",
        "de secuencias.\n",
        "\n",
        "Tomando la longitud de esta secuencia, podemos escribir las secuencias\n",
        "auxiliares.\n",
        "\n",
        "\"\"\"\n",
        "\n",
        "def auxiliar(s, i, nam):\n",
        "    first_record = s[0]\n",
        "\n",
        "    a = ['A' for i in range(len(first_record))]\n",
        "    a = ''.join(a)\n",
        "    a_r = SeqRecord(a)\n",
        "    a_r.id = 'Auxiliar'\n",
        "    a_r.name = 'Auxiliar'\n",
        "\n",
        "    c = ['C' for i in range(len(first_record))]\n",
        "    c = ''.join(c)\n",
        "    c_r = SeqRecord(c)\n",
        "    c_r.id = 'Auxiliar'\n",
        "    c_r.name = 'Auxiliar'\n",
        "\n",
        "    t = ['T' for i in range(len(first_record))]\n",
        "    t = ''.join(t)\n",
        "    t_r = SeqRecord(t)\n",
        "    t_r.id = 'Auxiliar'\n",
        "    t_r.name = 'Auxiliar'\n",
        "\n",
        "    g = ['G' for i in range(len(first_record))]\n",
        "    g = ''.join(g)\n",
        "    g_r = SeqRecord(g)\n",
        "    g_r.id = 'Auxiliar'\n",
        "    g_r.name = 'Auxiliar'\n",
        "\n",
        "    n = ['N' for i in range(len(first_record))]\n",
        "    n = ''.join(n)\n",
        "    n_r = SeqRecord(n)\n",
        "    n_r.id = 'Auxiliar'\n",
        "    n_r.name = 'Auxiliar'\n",
        "\n",
        "    print\n",
        "    aux = [a_r, c_r, t_r, g_r, n_r]\n",
        "\n",
        "    for record in aux:\n",
        "        i.append(record.id)\n",
        "        s.append(record.seq)\n",
        "        nam.append(record.name)\n",
        "\n",
        "auxiliar(seqs, idt, name) #agrego 5 secuencias auxiliares para el one-hot encoding"
      ]
    },
    {
      "cell_type": "code",
      "execution_count": 5,
      "id": "41e710c4-97ce-44bd-b4ab-a8ad31e1226a",
      "metadata": {
        "tags": [],
        "id": "41e710c4-97ce-44bd-b4ab-a8ad31e1226a"
      },
      "outputs": [],
      "source": [
        "sequences = []\n",
        "with open(\"pre-align.fasta\", \"w\") as output_handle:\n",
        "    for i in range(len(seqs)):\n",
        "        sequences = SeqRecord(Seq(seqs[i]), id =idt[i])\n",
        "        SeqIO.write(sequences, output_handle, \"fasta\") #almacenando el archivo .fasta con secuencias auxiliares"
      ]
    },
    {
      "cell_type": "code",
      "execution_count": 6,
      "id": "a966e34c-335d-4f98-b3ce-4abb113df82b",
      "metadata": {
        "tags": [],
        "id": "a966e34c-335d-4f98-b3ce-4abb113df82b"
      },
      "outputs": [],
      "source": [
        "\"\"\"\n",
        "Alineamiento múltiple de secuencias\n",
        "\n",
        "\"\"\"\n",
        "\n",
        "from Bio.Align import MultipleSeqAlignment\n",
        "\n",
        "with open(\"align.aln\", \"w\") as output_handle:\n",
        "    msa = MultipleSeqAlignment(SeqIO.parse(\"pre-align.fasta\", \"fasta\"))\n",
        "    SeqIO.write(msa, output_handle, \"fasta\") #almacenando el archivo del alineamiento"
      ]
    },
    {
      "cell_type": "code",
      "execution_count": 7,
      "id": "7aca715e-8aeb-4fd3-92cb-b559daf40b9a",
      "metadata": {
        "tags": [],
        "colab": {
          "base_uri": "https://localhost:8080/"
        },
        "id": "7aca715e-8aeb-4fd3-92cb-b559daf40b9a",
        "outputId": "fd3ebce3-e8f8-4362-e000-e651cb00c30f"
      },
      "outputs": [
        {
          "output_type": "stream",
          "name": "stdout",
          "text": [
            "                     ID S1 S2 S3 S4 S5 S6 S7 S8 S9  ... S654 S655 S656 S657  \\\n",
            "0    DQ471543_110189412  A  T  T  G  G  A  A  C  T  ...    A    C    A    T   \n",
            "1    DQ471554_110189434  A  T  T  G  G  A  A  C  T  ...    A    C    A    T   \n",
            "2     DQ383677_87475153  N  N  N  N  N  N  A  C  T  ...    A    C    A    T   \n",
            "3     DQ383678_87475155  N  N  N  N  N  N  A  C  T  ...    A    C    A    T   \n",
            "4     DQ383671_87475141  N  N  N  N  N  N  A  C  T  ...    A    C    A    T   \n",
            "..                  ... .. .. .. .. .. .. .. .. ..  ...  ...  ...  ...  ...   \n",
            "116            Auxiliar  A  A  A  A  A  A  A  A  A  ...    A    A    A    A   \n",
            "117            Auxiliar  C  C  C  C  C  C  C  C  C  ...    C    C    C    C   \n",
            "118            Auxiliar  T  T  T  T  T  T  T  T  T  ...    T    T    T    T   \n",
            "119            Auxiliar  G  G  G  G  G  G  G  G  G  ...    G    G    G    G   \n",
            "120            Auxiliar  N  N  N  N  N  N  N  N  N  ...    N    N    N    N   \n",
            "\n",
            "    S658 S659 S660 S661 S662 S663  \n",
            "0      T    T    A    T    T    T  \n",
            "1      T    T    A    T    T    T  \n",
            "2      T    T    A    T    T    T  \n",
            "3      T    T    A    T    T    T  \n",
            "4      T    T    A    T    T    T  \n",
            "..   ...  ...  ...  ...  ...  ...  \n",
            "116    A    A    A    A    A    A  \n",
            "117    C    C    C    C    C    C  \n",
            "118    T    T    T    T    T    T  \n",
            "119    G    G    G    G    G    G  \n",
            "120    N    N    N    N    N    N  \n",
            "\n",
            "[121 rows x 664 columns]\n"
          ]
        }
      ],
      "source": [
        "\"\"\"\n",
        "Creación del dataframe del conjunto de prueba\n",
        "\n",
        "\"\"\"\n",
        "\n",
        "align = AlignIO.read(\"align.aln\", \"fasta\")\n",
        "\n",
        "seqs = []\n",
        "idt = []\n",
        "\n",
        "for record in align:\n",
        "    seqs.append(record.seq)\n",
        "    idt.append(record.id)\n",
        "\n",
        "#Creamos un dataframe solo con las secuencias y agregamos un identificador para cada nucleotido\n",
        "df_align = pd.DataFrame(align)\n",
        "length = len(seqs[0]) + 1\n",
        "r = list(range(1,length))\n",
        "row = ['S' + str(i) for i in r]\n",
        "df_align = df_align.set_axis(row, axis='columns')\n",
        "\n",
        "df_align.insert(0, 'ID', idt)\n",
        "df_align\n",
        "\n",
        "#Reemplazamos los espacios blancos (gaps) por N\n",
        "data = df_align.replace(r'-', 'N', regex=True)\n",
        "data = data.copy()\n",
        "print(data)"
      ]
    },
    {
      "cell_type": "markdown",
      "id": "3fb2caaf-82cb-4315-a28f-85906ed11ac2",
      "metadata": {
        "tags": [],
        "id": "3fb2caaf-82cb-4315-a28f-85906ed11ac2"
      },
      "source": [
        "# 3. Conjunto de entrenamiento"
      ]
    },
    {
      "cell_type": "markdown",
      "id": "3fa04277-3019-4955-ab25-12c78beba89c",
      "metadata": {
        "id": "3fa04277-3019-4955-ab25-12c78beba89c"
      },
      "source": [
        "El conjunto de entrenamiento recibió un tratamiento similar al del conjunto de prueba. A partir de este conjunto se identificarán los sitios de homología."
      ]
    },
    {
      "cell_type": "code",
      "execution_count": 8,
      "id": "c4e047a2-52f4-44e1-aab0-8c4ad13ee8a6",
      "metadata": {
        "tags": [],
        "id": "c4e047a2-52f4-44e1-aab0-8c4ad13ee8a6"
      },
      "outputs": [],
      "source": [
        "\"\"\"\n",
        "Preparando secuencias para alineamiento\n",
        "\n",
        "\"\"\"\n",
        "# Generando listas vacías para los identificadores y las secuencias a insertar\n",
        "\n",
        "idt_train = []\n",
        "seqs_train = []\n",
        "name_train = []\n",
        "for record in SeqIO.parse(\"Drosophila_train.fasta\", \"fasta\"):\n",
        "    idt_train.append(record.id)\n",
        "    seqs_train.append(record.seq)\n",
        "\n",
        "auxiliar(seqs, idt, name) #agrego 5 secuencias auxiliares"
      ]
    },
    {
      "cell_type": "code",
      "execution_count": 9,
      "id": "85466ed5-5b38-4796-bc88-9fa5e49cdd71",
      "metadata": {
        "tags": [],
        "id": "85466ed5-5b38-4796-bc88-9fa5e49cdd71"
      },
      "outputs": [],
      "source": [
        "sequences_train = []\n",
        "with open(\"pre-align-train.fasta\", \"w\") as output_handle:\n",
        "    for i in range(len(seqs_train)):\n",
        "        sequences_train = SeqRecord(Seq(seqs_train[i]), id =idt_train[i])\n",
        "        SeqIO.write(sequences_train, output_handle, \"fasta\")"
      ]
    },
    {
      "cell_type": "code",
      "execution_count": 10,
      "id": "9d780640-cc7f-4395-b39c-382147f9cbc3",
      "metadata": {
        "tags": [],
        "id": "9d780640-cc7f-4395-b39c-382147f9cbc3"
      },
      "outputs": [],
      "source": [
        "from Bio.Align import MultipleSeqAlignment\n",
        "\n",
        "with open(\"align-train.aln\", \"w\") as output_handle:\n",
        "    msa_train = MultipleSeqAlignment(SeqIO.parse(\"pre-align-train.fasta\", \"fasta\"))\n",
        "    SeqIO.write(msa_train, output_handle, \"fasta\")"
      ]
    },
    {
      "cell_type": "code",
      "execution_count": 11,
      "id": "16c011d3-0418-4841-808f-eeb38ac4bb87",
      "metadata": {
        "tags": [],
        "colab": {
          "base_uri": "https://localhost:8080/"
        },
        "id": "16c011d3-0418-4841-808f-eeb38ac4bb87",
        "outputId": "8addd05f-5e98-4b0a-b031-c7279b88dfe6"
      },
      "outputs": [
        {
          "output_type": "stream",
          "name": "stdout",
          "text": [
            "                     ID              Target S1 S2 S3 S4 S5 S6 S7 S8  ... S654  \\\n",
            "0    DQ471538_110189402    Drosophila_angor  A  T  T  G  G  A  A  C  ...    A   \n",
            "1    DQ471539_110189404    Drosophila_angor  A  T  C  G  G  A  A  C  ...    A   \n",
            "2    DQ471540_110189406    Drosophila_angor  A  T  T  G  G  A  A  C  ...    A   \n",
            "3    DQ471541_110189408    Drosophila_angor  A  T  C  G  G  T  A  C  ...    A   \n",
            "4    DQ471542_110189410    Drosophila_angor  A  T  T  G  G  A  A  C  ...    A   \n",
            "..                  ...                 ... .. .. .. .. .. .. .. ..  ...  ...   \n",
            "494   DQ426805_90018989  Drosophila_virilis  N  N  N  G  G  A  A  C  ...    A   \n",
            "495   DQ426806_90018991  Drosophila_virilis  N  N  N  G  G  A  A  C  ...    A   \n",
            "496   DQ426807_90018993  Drosophila_virilis  N  N  N  G  G  A  A  C  ...    A   \n",
            "497  DQ471535_110189396  Drosophila_virilis  A  T  T  G  G  A  A  C  ...    A   \n",
            "498  DQ471577_110189479  Drosophila_virilis  A  T  T  G  G  A  A  C  ...    A   \n",
            "\n",
            "    S655 S656 S657 S658 S659 S660 S661 S662 S663  \n",
            "0      C    A    T    T    T    A    G    T    T  \n",
            "1      C    A    T    T    T    A    T    T    G  \n",
            "2      C    A    T    T    T    A    T    T    T  \n",
            "3      C    A    T    T    T    A    T    T    T  \n",
            "4      C    A    T    T    T    A    T    T    T  \n",
            "..   ...  ...  ...  ...  ...  ...  ...  ...  ...  \n",
            "494    C    A    T    T    T    A    T    T    T  \n",
            "495    C    A    T    T    T    A    T    T    T  \n",
            "496    C    A    T    T    T    A    T    T    T  \n",
            "497    C    A    T    T    T    A    T    T    T  \n",
            "498    C    A    T    T    T    A    T    T    T  \n",
            "\n",
            "[499 rows x 665 columns]\n"
          ]
        }
      ],
      "source": [
        "\"\"\"\n",
        "Creación del dataframe del conjunto de entrenamiento\n",
        "\n",
        "\"\"\"\n",
        "\n",
        "align_train = AlignIO.read(\"align-train.aln\", \"fasta\")\n",
        "\n",
        "seqs_train = []\n",
        "idt_train = []\n",
        "target = []\n",
        "\n",
        "for record in align_train:\n",
        "    seqs_train.append(record.seq)\n",
        "    idt_train.append(record.id.split('|')[2])\n",
        "    target.append(record.id.split('|')[1])\n",
        "\n",
        "#Creamos un dataframe solo con las secuencias y agregamos un identificador para cada nucleotido\n",
        "df_align_train = pd.DataFrame(align_train)\n",
        "length = len(seqs_train[0]) + 1\n",
        "r = list(range(1,length))\n",
        "row = ['S' + str(i) for i in r]\n",
        "df_align_train = df_align_train.set_axis(row, axis='columns')\n",
        "\n",
        "df_align_train.insert(0, 'ID', idt_train)\n",
        "df_align_train.insert(1, 'Target', target)\n",
        "\n",
        "\n",
        "#Reemplazamos los espacios blancos (gaps) por N\n",
        "data_train = df_align_train.replace(r'-', 'N', regex=True)\n",
        "data_train = data_train.copy()\n",
        "print(data_train)"
      ]
    },
    {
      "cell_type": "markdown",
      "id": "821a3d83-ef59-4394-a7fd-8d64a9975fbc",
      "metadata": {
        "id": "821a3d83-ef59-4394-a7fd-8d64a9975fbc"
      },
      "source": [
        "## 3.1 Eliminación de posiciones que presentan homología"
      ]
    },
    {
      "cell_type": "markdown",
      "id": "d8d0ff06-289c-45d7-90bc-84bf5533fe94",
      "metadata": {
        "id": "d8d0ff06-289c-45d7-90bc-84bf5533fe94"
      },
      "source": [
        "Al alinear el conjunto de entrenamiento, podemos percatarnos de que ciertas posiciones se encuentran completamente conservadas (el mismo nucleótido aparece en la misma posición para todas las secuencias). Estos sitios homólogos pueden ser identificados, a partir de lo cual podemos eliminar las columnas que corresponden a dichos sitios de homología tanto en el conjunto de entrenamiento como en el de prueba. Esto disminuye la cantidad de datos con las cuales continuaremos trabajando."
      ]
    },
    {
      "cell_type": "code",
      "execution_count": 12,
      "id": "749b77c6-ba95-4049-8632-7888a6110532",
      "metadata": {
        "tags": [],
        "id": "749b77c6-ba95-4049-8632-7888a6110532"
      },
      "outputs": [],
      "source": [
        "\"\"\"\n",
        "Hacemos una iteración a lo largo de cada columna contando los duplicados que encontremos a lo largo de ella.\n",
        "Para determinar una conservación de nucleótidos del 100%, simplemente comparamos los duplicados con el número\n",
        "de filas contadas y almacenamos las etiquetas de las columnas donde se cumpla esta condición.\n",
        "\n",
        "\"\"\"\n",
        "\n",
        "columns = data_train.columns\n",
        "flag = []\n",
        "\n",
        "for column in columns:\n",
        "    s = data_train.duplicated(subset=[column]).sum()\n",
        "    if s == (len(data_train) - 1):\n",
        "        flag.append(column) #flag almacena las etiquetas de los sitios de homología\n",
        "\n",
        "\n",
        "\"\"\"\n",
        "Aquí generamos nuestros dataframes finales donde eliminamos estos sitios de homolgía encontrados en el conjunto de\n",
        "prueba.\n",
        "\n",
        "\"\"\"\n",
        "data_train_het = data_train.drop(flag, axis=1)\n",
        "data_het = data.drop(flag, axis=1)\n",
        "\n",
        "#print(flag)"
      ]
    },
    {
      "cell_type": "markdown",
      "id": "e0208d58-4d0d-4a61-afaa-2f333f291193",
      "metadata": {
        "id": "e0208d58-4d0d-4a61-afaa-2f333f291193"
      },
      "source": [
        "Corroboramos que los sitios homólogos hayan sido eliminados y nos quedamos con conjuntos de datos un poco más heterogéneos."
      ]
    },
    {
      "cell_type": "code",
      "execution_count": 13,
      "id": "fcb86baf-ee55-464e-9b5f-0141e5cf6fb5",
      "metadata": {
        "tags": [],
        "colab": {
          "base_uri": "https://localhost:8080/"
        },
        "id": "fcb86baf-ee55-464e-9b5f-0141e5cf6fb5",
        "outputId": "0de17c70-96da-4084-ba49-819be9692d06"
      },
      "outputs": [
        {
          "output_type": "stream",
          "name": "stdout",
          "text": [
            "                     ID S1 S2 S3 S4 S5 S6 S7 S8 S9  ... S645 S646 S648 S651  \\\n",
            "0    DQ471543_110189412  A  T  T  G  G  A  A  C  T  ...    T    T    A    C   \n",
            "1    DQ471554_110189434  A  T  T  G  G  A  A  C  T  ...    T    C    A    C   \n",
            "2     DQ383677_87475153  N  N  N  N  N  N  A  C  T  ...    T    C    T    C   \n",
            "3     DQ383678_87475155  N  N  N  N  N  N  A  C  T  ...    T    C    T    C   \n",
            "4     DQ383671_87475141  N  N  N  N  N  N  A  C  T  ...    T    C    T    C   \n",
            "..                  ... .. .. .. .. .. .. .. .. ..  ...  ...  ...  ...  ...   \n",
            "116            Auxiliar  A  A  A  A  A  A  A  A  A  ...    A    A    A    A   \n",
            "117            Auxiliar  C  C  C  C  C  C  C  C  C  ...    C    C    C    C   \n",
            "118            Auxiliar  T  T  T  T  T  T  T  T  T  ...    T    T    T    T   \n",
            "119            Auxiliar  G  G  G  G  G  G  G  G  G  ...    G    G    G    G   \n",
            "120            Auxiliar  N  N  N  N  N  N  N  N  N  ...    N    N    N    N   \n",
            "\n",
            "    S654 S657 S660 S661 S662 S663  \n",
            "0      A    T    A    T    T    T  \n",
            "1      A    T    A    T    T    T  \n",
            "2      A    T    A    T    T    T  \n",
            "3      A    T    A    T    T    T  \n",
            "4      A    T    A    T    T    T  \n",
            "..   ...  ...  ...  ...  ...  ...  \n",
            "116    A    A    A    A    A    A  \n",
            "117    C    C    C    C    C    C  \n",
            "118    T    T    T    T    T    T  \n",
            "119    G    G    G    G    G    G  \n",
            "120    N    N    N    N    N    N  \n",
            "\n",
            "[121 rows x 267 columns]\n"
          ]
        }
      ],
      "source": [
        "print(data_het)"
      ]
    },
    {
      "cell_type": "code",
      "execution_count": 14,
      "id": "1af81ea8-ad7e-49da-9ee9-0ece06ed05d4",
      "metadata": {
        "tags": [],
        "colab": {
          "base_uri": "https://localhost:8080/"
        },
        "id": "1af81ea8-ad7e-49da-9ee9-0ece06ed05d4",
        "outputId": "1c7cf5fe-79da-4ed2-bfb4-c7d3745b3f69"
      },
      "outputs": [
        {
          "output_type": "stream",
          "name": "stdout",
          "text": [
            "                     ID              Target S1 S2 S3 S4 S5 S6 S7 S8  ... S645  \\\n",
            "0    DQ471538_110189402    Drosophila_angor  A  T  T  G  G  A  A  C  ...    T   \n",
            "1    DQ471539_110189404    Drosophila_angor  A  T  C  G  G  A  A  C  ...    T   \n",
            "2    DQ471540_110189406    Drosophila_angor  A  T  T  G  G  A  A  C  ...    T   \n",
            "3    DQ471541_110189408    Drosophila_angor  A  T  C  G  G  T  A  C  ...    T   \n",
            "4    DQ471542_110189410    Drosophila_angor  A  T  T  G  G  A  A  C  ...    T   \n",
            "..                  ...                 ... .. .. .. .. .. .. .. ..  ...  ...   \n",
            "494   DQ426805_90018989  Drosophila_virilis  N  N  N  G  G  A  A  C  ...    T   \n",
            "495   DQ426806_90018991  Drosophila_virilis  N  N  N  G  G  A  A  C  ...    T   \n",
            "496   DQ426807_90018993  Drosophila_virilis  N  N  N  G  G  A  A  C  ...    T   \n",
            "497  DQ471535_110189396  Drosophila_virilis  A  T  T  G  G  A  A  C  ...    T   \n",
            "498  DQ471577_110189479  Drosophila_virilis  A  T  T  G  G  A  A  C  ...    T   \n",
            "\n",
            "    S646 S648 S651 S654 S657 S660 S661 S662 S663  \n",
            "0      T    A    C    A    T    A    G    T    T  \n",
            "1      T    A    T    A    T    A    T    T    G  \n",
            "2      T    A    C    A    T    A    T    T    T  \n",
            "3      C    T    T    A    T    A    T    T    T  \n",
            "4      T    A    C    A    T    A    T    T    T  \n",
            "..   ...  ...  ...  ...  ...  ...  ...  ...  ...  \n",
            "494    T    A    C    A    T    A    T    T    T  \n",
            "495    T    A    C    A    T    A    T    T    T  \n",
            "496    T    A    C    A    T    A    T    T    T  \n",
            "497    T    A    C    A    T    A    T    T    T  \n",
            "498    T    A    C    A    T    A    T    T    T  \n",
            "\n",
            "[499 rows x 268 columns]\n"
          ]
        }
      ],
      "source": [
        "print(data_train_het)"
      ]
    },
    {
      "cell_type": "markdown",
      "id": "fde72733-bd87-4be3-9368-8a6666ac5e48",
      "metadata": {
        "tags": [],
        "id": "fde72733-bd87-4be3-9368-8a6666ac5e48"
      },
      "source": [
        "**NOTA:** Si se analiza el código escrito hasta este punto, se observará que todas las variables se diseñaron con la intención de poder trabajar con cualquier par de archivos FASTA de entrenamiento y prueba que sean proporcionados."
      ]
    },
    {
      "cell_type": "markdown",
      "id": "57cc37d5-14b2-4367-bc5e-c8f305e47c39",
      "metadata": {
        "tags": [],
        "id": "57cc37d5-14b2-4367-bc5e-c8f305e47c39"
      },
      "source": [
        "# 4. Implementando el modelo de aprendizaje supervisado"
      ]
    },
    {
      "cell_type": "markdown",
      "id": "397ffd0c-727b-4ba3-bda5-0bd6090e5591",
      "metadata": {
        "id": "397ffd0c-727b-4ba3-bda5-0bd6090e5591"
      },
      "source": [
        "## 4.1 Randomforest classifier\n",
        "Aquí implementamos el clasificador con el que se contaba previamente a partir del DEMO proporcionado. Podemos comparar los resultados obtenidos con el procesamiento de datos previamente realizado."
      ]
    },
    {
      "cell_type": "code",
      "execution_count": 15,
      "id": "3b77cea1-d226-465a-abb2-0ce53559e6fc",
      "metadata": {
        "tags": [],
        "id": "3b77cea1-d226-465a-abb2-0ce53559e6fc"
      },
      "outputs": [],
      "source": [
        "from sklearn import datasets, model_selection, metrics, ensemble\n",
        "\n",
        "import numpy as np\n",
        "from sklearn.feature_extraction.text import CountVectorizer\n",
        "from sklearn.model_selection import train_test_split\n",
        "from sklearn.naive_bayes import MultinomialNB\n",
        "from sklearn.metrics import accuracy_score, confusion_matrix, precision_score, recall_score, ConfusionMatrixDisplay\n",
        "from sklearn.metrics import classification_report\n",
        "from sklearn.metrics import f1_score\n",
        "from sklearn.multioutput import MultiOutputClassifier\n",
        "from sklearn.ensemble import RandomForestClassifier\n",
        "from sklearn import tree\n",
        "from sklearn.preprocessing import LabelEncoder\n",
        "from sklearn import preprocessing\n",
        "from sklearn.metrics import cohen_kappa_score"
      ]
    },
    {
      "cell_type": "markdown",
      "id": "2faf08b3-9857-4eb6-b159-cb668917a7bc",
      "metadata": {
        "id": "2faf08b3-9857-4eb6-b159-cb668917a7bc"
      },
      "source": [
        "### 4.1.1. Exploración de datos:"
      ]
    },
    {
      "cell_type": "code",
      "execution_count": 16,
      "id": "09015115-9189-46b4-a9b2-bc907b68bd9a",
      "metadata": {
        "tags": [],
        "colab": {
          "base_uri": "https://localhost:8080/"
        },
        "id": "09015115-9189-46b4-a9b2-bc907b68bd9a",
        "outputId": "76e2205f-38ef-4c5e-f288-13d691c547bb"
      },
      "outputs": [
        {
          "output_type": "execute_result",
          "data": {
            "text/plain": [
              "0        Drosophila_angor\n",
              "1        Drosophila_angor\n",
              "2        Drosophila_angor\n",
              "3        Drosophila_angor\n",
              "4        Drosophila_angor\n",
              "              ...        \n",
              "494    Drosophila_virilis\n",
              "495    Drosophila_virilis\n",
              "496    Drosophila_virilis\n",
              "497    Drosophila_virilis\n",
              "498    Drosophila_virilis\n",
              "Name: Target, Length: 499, dtype: object"
            ]
          },
          "metadata": {},
          "execution_count": 16
        }
      ],
      "source": [
        "Y_train = data_train_het['Target']\n",
        "Y_train"
      ]
    },
    {
      "cell_type": "code",
      "execution_count": 17,
      "id": "346be26b-1a0c-4cbf-aef2-fdb699fc29a7",
      "metadata": {
        "tags": [],
        "colab": {
          "base_uri": "https://localhost:8080/"
        },
        "id": "346be26b-1a0c-4cbf-aef2-fdb699fc29a7",
        "outputId": "2d9a3718-3a33-45d7-be56-4a2d166a067d"
      },
      "outputs": [
        {
          "output_type": "execute_result",
          "data": {
            "text/plain": [
              "<bound method NDFrame.head of     S1 S2 S3 S4 S5 S6 S7 S8 S9 S10  ... S645 S646 S648 S651 S654 S657 S660  \\\n",
              "0    A  T  T  G  G  A  A  C  T   T  ...    T    T    A    C    A    T    A   \n",
              "1    A  T  C  G  G  A  A  C  T   T  ...    T    T    A    T    A    T    A   \n",
              "2    A  T  T  G  G  A  A  C  T   T  ...    T    T    A    C    A    T    A   \n",
              "3    A  T  C  G  G  T  A  C  A   C  ...    T    C    T    T    A    T    A   \n",
              "4    A  T  T  G  G  A  A  C  T   T  ...    T    T    A    C    A    T    A   \n",
              "..  .. .. .. .. .. .. .. .. ..  ..  ...  ...  ...  ...  ...  ...  ...  ...   \n",
              "494  N  N  N  G  G  A  A  C  A   T  ...    T    T    A    C    A    T    A   \n",
              "495  N  N  N  G  G  A  A  C  A   T  ...    T    T    A    C    A    T    A   \n",
              "496  N  N  N  G  G  A  A  C  A   T  ...    T    T    A    C    A    T    A   \n",
              "497  A  T  T  G  G  A  A  C  A   T  ...    T    T    A    C    A    T    A   \n",
              "498  A  T  T  G  G  A  A  C  A   T  ...    T    T    A    C    A    T    A   \n",
              "\n",
              "    S661 S662 S663  \n",
              "0      G    T    T  \n",
              "1      T    T    G  \n",
              "2      T    T    T  \n",
              "3      T    T    T  \n",
              "4      T    T    T  \n",
              "..   ...  ...  ...  \n",
              "494    T    T    T  \n",
              "495    T    T    T  \n",
              "496    T    T    T  \n",
              "497    T    T    T  \n",
              "498    T    T    T  \n",
              "\n",
              "[499 rows x 266 columns]>"
            ]
          },
          "metadata": {},
          "execution_count": 17
        }
      ],
      "source": [
        "X_train = data_train_het.loc[:, 'S1':'S663']\n",
        "X_train.head"
      ]
    },
    {
      "cell_type": "markdown",
      "id": "2205ad45-9754-418b-8346-8aedb30b058e",
      "metadata": {
        "id": "2205ad45-9754-418b-8346-8aedb30b058e"
      },
      "source": [
        "### 4.1.2. *One-hot encoding* del conjunto de entrenamiento"
      ]
    },
    {
      "cell_type": "code",
      "execution_count": 18,
      "id": "9879f711-c212-43bc-b876-aaaa55890500",
      "metadata": {
        "tags": [],
        "colab": {
          "base_uri": "https://localhost:8080/"
        },
        "id": "9879f711-c212-43bc-b876-aaaa55890500",
        "outputId": "e4cdb22f-1e99-4e0f-ff5f-9314b19bf36f"
      },
      "outputs": [
        {
          "output_type": "execute_result",
          "data": {
            "text/plain": [
              "Index(['ID', 'Target', 'S1', 'S2', 'S3', 'S4', 'S5', 'S6', 'S7', 'S8',\n",
              "       ...\n",
              "       'S645', 'S646', 'S648', 'S651', 'S654', 'S657', 'S660', 'S661', 'S662',\n",
              "       'S663'],\n",
              "      dtype='object', length=268)"
            ]
          },
          "metadata": {},
          "execution_count": 18
        }
      ],
      "source": [
        "# list(data) or\n",
        "data_train_het.columns"
      ]
    },
    {
      "cell_type": "code",
      "execution_count": 19,
      "id": "48e5b025-558a-4284-83fb-d59c3eb239b7",
      "metadata": {
        "tags": [],
        "colab": {
          "base_uri": "https://localhost:8080/"
        },
        "id": "48e5b025-558a-4284-83fb-d59c3eb239b7",
        "outputId": "ed648cf6-4ba3-48e7-fdda-403e1dc5b899"
      },
      "outputs": [
        {
          "output_type": "execute_result",
          "data": {
            "text/plain": [
              "Index(['Target', 'S1', 'S2', 'S3', 'S4', 'S5', 'S6', 'S7', 'S8', 'S9',\n",
              "       ...\n",
              "       'S645', 'S646', 'S648', 'S651', 'S654', 'S657', 'S660', 'S661', 'S662',\n",
              "       'S663'],\n",
              "      dtype='object', length=267)"
            ]
          },
          "metadata": {},
          "execution_count": 19
        }
      ],
      "source": [
        "df = data_train_het.loc[:, 'Target':'S663']\n",
        "df.columns"
      ]
    },
    {
      "cell_type": "code",
      "execution_count": 20,
      "id": "e564110d-026c-4d7b-a483-d5dd9572c14a",
      "metadata": {
        "tags": [],
        "colab": {
          "base_uri": "https://localhost:8080/"
        },
        "id": "e564110d-026c-4d7b-a483-d5dd9572c14a",
        "outputId": "318d9907-2ac9-4ced-86c4-156e8456d966"
      },
      "outputs": [
        {
          "output_type": "execute_result",
          "data": {
            "text/plain": [
              "Index(['S1', 'S2', 'S3', 'S4', 'S5', 'S6', 'S7', 'S8', 'S9', 'S10',\n",
              "       ...\n",
              "       'S645', 'S646', 'S648', 'S651', 'S654', 'S657', 'S660', 'S661', 'S662',\n",
              "       'S663'],\n",
              "      dtype='object', length=266)"
            ]
          },
          "metadata": {},
          "execution_count": 20
        }
      ],
      "source": [
        "df_X = data_train_het.loc[:, 'S1':'S663']\n",
        "df_X.columns"
      ]
    },
    {
      "cell_type": "code",
      "execution_count": 21,
      "id": "481d7907-1821-4406-b389-198202ea3969",
      "metadata": {
        "tags": [],
        "colab": {
          "base_uri": "https://localhost:8080/"
        },
        "id": "481d7907-1821-4406-b389-198202ea3969",
        "outputId": "aac4cb47-00bc-404e-fb72-449954f08cef"
      },
      "outputs": [
        {
          "output_type": "stream",
          "name": "stdout",
          "text": [
            "                 Target  S1_A  S1_N  S2_N  S2_T  S3_C  S3_N  S3_T  S4_G  S4_N  \\\n",
            "0      Drosophila_angor     1     0     0     1     0     0     1     1     0   \n",
            "1      Drosophila_angor     1     0     0     1     1     0     0     1     0   \n",
            "2      Drosophila_angor     1     0     0     1     0     0     1     1     0   \n",
            "3      Drosophila_angor     1     0     0     1     1     0     0     1     0   \n",
            "4      Drosophila_angor     1     0     0     1     0     0     1     1     0   \n",
            "..                  ...   ...   ...   ...   ...   ...   ...   ...   ...   ...   \n",
            "494  Drosophila_virilis     0     1     1     0     0     1     0     1     0   \n",
            "495  Drosophila_virilis     0     1     1     0     0     1     0     1     0   \n",
            "496  Drosophila_virilis     0     1     1     0     0     1     0     1     0   \n",
            "497  Drosophila_virilis     1     0     0     1     0     0     1     1     0   \n",
            "498  Drosophila_virilis     1     0     0     1     0     0     1     1     0   \n",
            "\n",
            "     ...  S657_T  S660_A  S660_G  S661_G  S661_T  S662_G  S662_T  S663_C  \\\n",
            "0    ...       1       1       0       1       0       0       1       0   \n",
            "1    ...       1       1       0       0       1       0       1       0   \n",
            "2    ...       1       1       0       0       1       0       1       0   \n",
            "3    ...       1       1       0       0       1       0       1       0   \n",
            "4    ...       1       1       0       0       1       0       1       0   \n",
            "..   ...     ...     ...     ...     ...     ...     ...     ...     ...   \n",
            "494  ...       1       1       0       0       1       0       1       0   \n",
            "495  ...       1       1       0       0       1       0       1       0   \n",
            "496  ...       1       1       0       0       1       0       1       0   \n",
            "497  ...       1       1       0       0       1       0       1       0   \n",
            "498  ...       1       1       0       0       1       0       1       0   \n",
            "\n",
            "     S663_G  S663_T  \n",
            "0         0       1  \n",
            "1         1       0  \n",
            "2         0       1  \n",
            "3         0       1  \n",
            "4         0       1  \n",
            "..      ...     ...  \n",
            "494       0       1  \n",
            "495       0       1  \n",
            "496       0       1  \n",
            "497       0       1  \n",
            "498       0       1  \n",
            "\n",
            "[499 rows x 687 columns]\n"
          ]
        }
      ],
      "source": [
        "one_hot_encoded_data = pd.get_dummies(df, columns = df_X.columns, dtype=int)\n",
        "print(one_hot_encoded_data)"
      ]
    },
    {
      "cell_type": "markdown",
      "id": "aa69d354-779c-496f-922e-2c0cc584d1d4",
      "metadata": {
        "id": "aa69d354-779c-496f-922e-2c0cc584d1d4"
      },
      "source": [
        "Eliminamos las filas auxiliares:"
      ]
    },
    {
      "cell_type": "code",
      "execution_count": 22,
      "id": "e73726d5-fe95-440f-91b3-6a76fda2df2e",
      "metadata": {
        "tags": [],
        "colab": {
          "base_uri": "https://localhost:8080/"
        },
        "id": "e73726d5-fe95-440f-91b3-6a76fda2df2e",
        "outputId": "67e845df-8db3-4836-8b12-af534a6fd234"
      },
      "outputs": [
        {
          "output_type": "stream",
          "name": "stdout",
          "text": [
            "                     Target  S1_A  S1_N  S2_N  S2_T  S3_C  S3_N  S3_T  S4_G  \\\n",
            "0          Drosophila_angor     1     0     0     1     0     0     1     1   \n",
            "1          Drosophila_angor     1     0     0     1     1     0     0     1   \n",
            "2          Drosophila_angor     1     0     0     1     0     0     1     1   \n",
            "3          Drosophila_angor     1     0     0     1     1     0     0     1   \n",
            "4          Drosophila_angor     1     0     0     1     0     0     1     1   \n",
            "..                      ...   ...   ...   ...   ...   ...   ...   ...   ...   \n",
            "489  Drosophila_subquinaria     0     1     1     0     0     1     0     0   \n",
            "490      Drosophila_virilis     1     0     0     1     0     0     1     1   \n",
            "491      Drosophila_virilis     0     1     1     0     0     1     0     1   \n",
            "492      Drosophila_virilis     0     1     1     0     0     1     0     1   \n",
            "493      Drosophila_virilis     0     1     1     0     0     1     0     1   \n",
            "\n",
            "     S4_N  ...  S657_T  S660_A  S660_G  S661_G  S661_T  S662_G  S662_T  \\\n",
            "0       0  ...       1       1       0       1       0       0       1   \n",
            "1       0  ...       1       1       0       0       1       0       1   \n",
            "2       0  ...       1       1       0       0       1       0       1   \n",
            "3       0  ...       1       1       0       0       1       0       1   \n",
            "4       0  ...       1       1       0       0       1       0       1   \n",
            "..    ...  ...     ...     ...     ...     ...     ...     ...     ...   \n",
            "489     1  ...       1       1       0       0       1       0       1   \n",
            "490     0  ...       1       1       0       0       1       0       1   \n",
            "491     0  ...       1       1       0       0       1       0       1   \n",
            "492     0  ...       1       1       0       0       1       0       1   \n",
            "493     0  ...       1       1       0       0       1       0       1   \n",
            "\n",
            "     S663_C  S663_G  S663_T  \n",
            "0         0       0       1  \n",
            "1         0       1       0  \n",
            "2         0       0       1  \n",
            "3         0       0       1  \n",
            "4         0       0       1  \n",
            "..      ...     ...     ...  \n",
            "489       0       0       1  \n",
            "490       0       0       1  \n",
            "491       0       0       1  \n",
            "492       0       0       1  \n",
            "493       0       0       1  \n",
            "\n",
            "[494 rows x 687 columns]\n"
          ]
        }
      ],
      "source": [
        "one_hot_encoded_data = one_hot_encoded_data.iloc[:-1, :]\n",
        "one_hot_encoded_data = one_hot_encoded_data.iloc[:-1, :]\n",
        "one_hot_encoded_data = one_hot_encoded_data.iloc[:-1, :]\n",
        "one_hot_encoded_data = one_hot_encoded_data.iloc[:-1, :]\n",
        "one_hot_encoded_data = one_hot_encoded_data.iloc[:-1, :]\n",
        "print(one_hot_encoded_data)"
      ]
    },
    {
      "cell_type": "code",
      "execution_count": 23,
      "id": "9f7e4cfc-3d8c-415e-b174-3e03f2fbc04b",
      "metadata": {
        "tags": [],
        "colab": {
          "base_uri": "https://localhost:8080/"
        },
        "id": "9f7e4cfc-3d8c-415e-b174-3e03f2fbc04b",
        "outputId": "ccbab047-5a0a-4e24-ad41-ae1e76e538ea"
      },
      "outputs": [
        {
          "output_type": "stream",
          "name": "stdout",
          "text": [
            "     Target  S1_A  S1_N  S2_N  S2_T  S3_C  S3_N  S3_T  S4_G  S4_N  ...  \\\n",
            "0         0     1     0     0     1     0     0     1     1     0  ...   \n",
            "1         0     1     0     0     1     1     0     0     1     0  ...   \n",
            "2         0     1     0     0     1     0     0     1     1     0  ...   \n",
            "3         0     1     0     0     1     1     0     0     1     0  ...   \n",
            "4         0     1     0     0     1     0     0     1     1     0  ...   \n",
            "..      ...   ...   ...   ...   ...   ...   ...   ...   ...   ...  ...   \n",
            "489      17     0     1     1     0     0     1     0     0     1  ...   \n",
            "490      18     1     0     0     1     0     0     1     1     0  ...   \n",
            "491      18     0     1     1     0     0     1     0     1     0  ...   \n",
            "492      18     0     1     1     0     0     1     0     1     0  ...   \n",
            "493      18     0     1     1     0     0     1     0     1     0  ...   \n",
            "\n",
            "     S657_T  S660_A  S660_G  S661_G  S661_T  S662_G  S662_T  S663_C  S663_G  \\\n",
            "0         1       1       0       1       0       0       1       0       0   \n",
            "1         1       1       0       0       1       0       1       0       1   \n",
            "2         1       1       0       0       1       0       1       0       0   \n",
            "3         1       1       0       0       1       0       1       0       0   \n",
            "4         1       1       0       0       1       0       1       0       0   \n",
            "..      ...     ...     ...     ...     ...     ...     ...     ...     ...   \n",
            "489       1       1       0       0       1       0       1       0       0   \n",
            "490       1       1       0       0       1       0       1       0       0   \n",
            "491       1       1       0       0       1       0       1       0       0   \n",
            "492       1       1       0       0       1       0       1       0       0   \n",
            "493       1       1       0       0       1       0       1       0       0   \n",
            "\n",
            "     S663_T  \n",
            "0         1  \n",
            "1         0  \n",
            "2         1  \n",
            "3         1  \n",
            "4         1  \n",
            "..      ...  \n",
            "489       1  \n",
            "490       1  \n",
            "491       1  \n",
            "492       1  \n",
            "493       1  \n",
            "\n",
            "[494 rows x 687 columns]\n"
          ]
        }
      ],
      "source": [
        "le = preprocessing.LabelEncoder()\n",
        "le.fit(one_hot_encoded_data.Target)\n",
        "list(le.classes_)\n",
        "one_hot_encoded_data['Target'] = le.transform(one_hot_encoded_data.Target)\n",
        "print(one_hot_encoded_data)"
      ]
    },
    {
      "cell_type": "code",
      "execution_count": 24,
      "id": "eb651b92-dfe2-43bb-b9b8-6656704aac30",
      "metadata": {
        "tags": [],
        "colab": {
          "base_uri": "https://localhost:8080/"
        },
        "id": "eb651b92-dfe2-43bb-b9b8-6656704aac30",
        "outputId": "207c0f1c-d025-4da0-c2cf-a9319fb2b9ed"
      },
      "outputs": [
        {
          "output_type": "execute_result",
          "data": {
            "text/plain": [
              "array(['Drosophila_angor', 'Drosophila_angor', 'Drosophila_angor',\n",
              "       'Drosophila_angor', 'Drosophila_angor', 'Drosophila_angor',\n",
              "       'Drosophila_angor', 'Drosophila_angor', 'Drosophila_angor',\n",
              "       'Drosophila_angor', 'Drosophila_arizonae', 'Drosophila_arizonae',\n",
              "       'Drosophila_arizonae', 'Drosophila_arizonae',\n",
              "       'Drosophila_arizonae', 'Drosophila_arizonae',\n",
              "       'Drosophila_arizonae', 'Drosophila_arizonae',\n",
              "       'Drosophila_arizonae', 'Drosophila_arizonae',\n",
              "       'Drosophila_arizonae', 'Drosophila_arizonae',\n",
              "       'Drosophila_arizonae', 'Drosophila_arizonae',\n",
              "       'Drosophila_barutani', 'Drosophila_barutani',\n",
              "       'Drosophila_barutani', 'Drosophila_barutani',\n",
              "       'Drosophila_barutani', 'Drosophila_beppui', 'Drosophila_beppui',\n",
              "       'Drosophila_beppui', 'Drosophila_daruma', 'Drosophila_daruma',\n",
              "       'Drosophila_daruma', 'Drosophila_daruma', 'Drosophila_falleni',\n",
              "       'Drosophila_falleni', 'Drosophila_falleni', 'Drosophila_falleni',\n",
              "       'Drosophila_falleni', 'Drosophila_falleni', 'Drosophila_falleni',\n",
              "       'Drosophila_falleni', 'Drosophila_falleni', 'Drosophila_falleni',\n",
              "       'Drosophila_falleni', 'Drosophila_falleni', 'Drosophila_innubila',\n",
              "       'Drosophila_innubila', 'Drosophila_innubila',\n",
              "       'Drosophila_innubila', 'Drosophila_innubila',\n",
              "       'Drosophila_innubila', 'Drosophila_innubila',\n",
              "       'Drosophila_innubila', 'Drosophila_innubila',\n",
              "       'Drosophila_innubila', 'Drosophila_innubila',\n",
              "       'Drosophila_innubila', 'Drosophila_innubila',\n",
              "       'Drosophila_innubila', 'Drosophila_innubila',\n",
              "       'Drosophila_innubila', 'Drosophila_innubila',\n",
              "       'Drosophila_innubila', 'Drosophila_innubila',\n",
              "       'Drosophila_innubila', 'Drosophila_innubila',\n",
              "       'Drosophila_innubila', 'Drosophila_innubila',\n",
              "       'Drosophila_innubila', 'Drosophila_innubila',\n",
              "       'Drosophila_mauritiana', 'Drosophila_mauritiana',\n",
              "       'Drosophila_mauritiana', 'Drosophila_melanogaster',\n",
              "       'Drosophila_melanogaster', 'Drosophila_melanogaster',\n",
              "       'Drosophila_melanogaster', 'Drosophila_melanogaster',\n",
              "       'Drosophila_melanogaster', 'Drosophila_melanogaster',\n",
              "       'Drosophila_melanogaster', 'Drosophila_mettleri',\n",
              "       'Drosophila_mettleri', 'Drosophila_mettleri',\n",
              "       'Drosophila_mettleri', 'Drosophila_mettleri',\n",
              "       'Drosophila_mettleri', 'Drosophila_mettleri',\n",
              "       'Drosophila_mettleri', 'Drosophila_mettleri',\n",
              "       'Drosophila_mettleri', 'Drosophila_mettleri',\n",
              "       'Drosophila_mettleri', 'Drosophila_mettleri',\n",
              "       'Drosophila_mettleri', 'Drosophila_mettleri',\n",
              "       'Drosophila_mettleri', 'Drosophila_mettleri',\n",
              "       'Drosophila_mettleri', 'Drosophila_mettleri',\n",
              "       'Drosophila_mojavensis', 'Drosophila_mojavensis',\n",
              "       'Drosophila_mojavensis', 'Drosophila_mojavensis',\n",
              "       'Drosophila_mojavensis', 'Drosophila_mojavensis',\n",
              "       'Drosophila_mojavensis', 'Drosophila_mojavensis',\n",
              "       'Drosophila_mojavensis', 'Drosophila_mojavensis',\n",
              "       'Drosophila_mojavensis', 'Drosophila_mojavensis',\n",
              "       'Drosophila_mojavensis', 'Drosophila_mojavensis',\n",
              "       'Drosophila_mojavensis', 'Drosophila_mojavensis',\n",
              "       'Drosophila_mojavensis', 'Drosophila_mojavensis',\n",
              "       'Drosophila_mojavensis', 'Drosophila_mojavensis',\n",
              "       'Drosophila_mojavensis', 'Drosophila_mojavensis',\n",
              "       'Drosophila_mojavensis', 'Drosophila_mojavensis',\n",
              "       'Drosophila_mojavensis', 'Drosophila_mojavensis',\n",
              "       'Drosophila_mojavensis', 'Drosophila_mojavensis',\n",
              "       'Drosophila_mojavensis', 'Drosophila_mojavensis',\n",
              "       'Drosophila_mojavensis', 'Drosophila_mojavensis',\n",
              "       'Drosophila_mojavensis', 'Drosophila_mojavensis',\n",
              "       'Drosophila_mojavensis', 'Drosophila_mojavensis',\n",
              "       'Drosophila_mojavensis', 'Drosophila_mojavensis',\n",
              "       'Drosophila_montana', 'Drosophila_montana', 'Drosophila_montana',\n",
              "       'Drosophila_montana', 'Drosophila_montana', 'Drosophila_montana',\n",
              "       'Drosophila_montana', 'Drosophila_montana', 'Drosophila_montana',\n",
              "       'Drosophila_montana', 'Drosophila_montana', 'Drosophila_montana',\n",
              "       'Drosophila_montana', 'Drosophila_montana', 'Drosophila_montana',\n",
              "       'Drosophila_montana', 'Drosophila_montana', 'Drosophila_montana',\n",
              "       'Drosophila_montana', 'Drosophila_montana', 'Drosophila_montana',\n",
              "       'Drosophila_montana', 'Drosophila_montana', 'Drosophila_montana',\n",
              "       'Drosophila_montana', 'Drosophila_montana', 'Drosophila_montana',\n",
              "       'Drosophila_montana', 'Drosophila_montana', 'Drosophila_montana',\n",
              "       'Drosophila_montana', 'Drosophila_montana', 'Drosophila_montana',\n",
              "       'Drosophila_montana', 'Drosophila_navojoa', 'Drosophila_navojoa',\n",
              "       'Drosophila_navojoa', 'Drosophila_navojoa',\n",
              "       'Drosophila_nigrospiracula', 'Drosophila_nigrospiracula',\n",
              "       'Drosophila_nigrospiracula', 'Drosophila_nigrospiracula',\n",
              "       'Drosophila_nigrospiracula', 'Drosophila_nigrospiracula',\n",
              "       'Drosophila_nigrospiracula', 'Drosophila_nigrospiracula',\n",
              "       'Drosophila_pachea', 'Drosophila_pachea', 'Drosophila_pachea',\n",
              "       'Drosophila_pachea', 'Drosophila_pachea', 'Drosophila_pachea',\n",
              "       'Drosophila_pachea', 'Drosophila_pachea', 'Drosophila_pachea',\n",
              "       'Drosophila_pachea', 'Drosophila_pachea', 'Drosophila_pachea',\n",
              "       'Drosophila_pachea', 'Drosophila_pachea', 'Drosophila_pachea',\n",
              "       'Drosophila_pachea', 'Drosophila_pachea', 'Drosophila_pachea',\n",
              "       'Drosophila_pachea', 'Drosophila_pachea', 'Drosophila_pachea',\n",
              "       'Drosophila_pachea', 'Drosophila_pachea', 'Drosophila_pachea',\n",
              "       'Drosophila_pachea', 'Drosophila_pachea', 'Drosophila_pachea',\n",
              "       'Drosophila_pachea', 'Drosophila_pachea', 'Drosophila_pachea',\n",
              "       'Drosophila_pachea', 'Drosophila_pachea', 'Drosophila_pachea',\n",
              "       'Drosophila_pachea', 'Drosophila_pachea', 'Drosophila_pachea',\n",
              "       'Drosophila_pachea', 'Drosophila_pachea', 'Drosophila_pachea',\n",
              "       'Drosophila_pachea', 'Drosophila_pachea', 'Drosophila_pachea',\n",
              "       'Drosophila_pachea', 'Drosophila_pachea', 'Drosophila_pachea',\n",
              "       'Drosophila_pachea', 'Drosophila_pachea', 'Drosophila_pachea',\n",
              "       'Drosophila_pachea', 'Drosophila_pachea', 'Drosophila_pachea',\n",
              "       'Drosophila_pachea', 'Drosophila_pachea', 'Drosophila_pachea',\n",
              "       'Drosophila_pachea', 'Drosophila_pachea', 'Drosophila_pachea',\n",
              "       'Drosophila_pachea', 'Drosophila_pachea', 'Drosophila_pachea',\n",
              "       'Drosophila_pachea', 'Drosophila_pachea', 'Drosophila_pachea',\n",
              "       'Drosophila_recens', 'Drosophila_recens', 'Drosophila_recens',\n",
              "       'Drosophila_recens', 'Drosophila_recens', 'Drosophila_recens',\n",
              "       'Drosophila_recens', 'Drosophila_recens', 'Drosophila_recens',\n",
              "       'Drosophila_recens', 'Drosophila_recens', 'Drosophila_recens',\n",
              "       'Drosophila_recens', 'Drosophila_recens', 'Drosophila_recens',\n",
              "       'Drosophila_recens', 'Drosophila_recens', 'Drosophila_recens',\n",
              "       'Drosophila_recens', 'Drosophila_recens', 'Drosophila_recens',\n",
              "       'Drosophila_recens', 'Drosophila_recens', 'Drosophila_recens',\n",
              "       'Drosophila_recens', 'Drosophila_recens', 'Drosophila_recens',\n",
              "       'Drosophila_recens', 'Drosophila_recens', 'Drosophila_recens',\n",
              "       'Drosophila_recens', 'Drosophila_recens', 'Drosophila_recens',\n",
              "       'Drosophila_recens', 'Drosophila_recens', 'Drosophila_recens',\n",
              "       'Drosophila_recens', 'Drosophila_recens', 'Drosophila_recens',\n",
              "       'Drosophila_recens', 'Drosophila_recens', 'Drosophila_recens',\n",
              "       'Drosophila_recens', 'Drosophila_recens', 'Drosophila_recens',\n",
              "       'Drosophila_recens', 'Drosophila_recens', 'Drosophila_recens',\n",
              "       'Drosophila_recens', 'Drosophila_recens', 'Drosophila_recens',\n",
              "       'Drosophila_recens', 'Drosophila_recens', 'Drosophila_recens',\n",
              "       'Drosophila_recens', 'Drosophila_recens', 'Drosophila_recens',\n",
              "       'Drosophila_recens', 'Drosophila_recens', 'Drosophila_recens',\n",
              "       'Drosophila_recens', 'Drosophila_recens', 'Drosophila_recens',\n",
              "       'Drosophila_recens', 'Drosophila_recens', 'Drosophila_recens',\n",
              "       'Drosophila_recens', 'Drosophila_recens', 'Drosophila_recens',\n",
              "       'Drosophila_recens', 'Drosophila_recens', 'Drosophila_recens',\n",
              "       'Drosophila_recens', 'Drosophila_recens', 'Drosophila_recens',\n",
              "       'Drosophila_recens', 'Drosophila_recens', 'Drosophila_recens',\n",
              "       'Drosophila_recens', 'Drosophila_recens', 'Drosophila_recens',\n",
              "       'Drosophila_recens', 'Drosophila_recens', 'Drosophila_recens',\n",
              "       'Drosophila_recens', 'Drosophila_recens', 'Drosophila_recens',\n",
              "       'Drosophila_recens', 'Drosophila_recens', 'Drosophila_recens',\n",
              "       'Drosophila_recens', 'Drosophila_recens', 'Drosophila_recens',\n",
              "       'Drosophila_recens', 'Drosophila_recens', 'Drosophila_recens',\n",
              "       'Drosophila_recens', 'Drosophila_recens', 'Drosophila_recens',\n",
              "       'Drosophila_recens', 'Drosophila_recens', 'Drosophila_recens',\n",
              "       'Drosophila_recens', 'Drosophila_recens', 'Drosophila_recens',\n",
              "       'Drosophila_recens', 'Drosophila_recens', 'Drosophila_recens',\n",
              "       'Drosophila_recens', 'Drosophila_simulans', 'Drosophila_simulans',\n",
              "       'Drosophila_simulans', 'Drosophila_simulans',\n",
              "       'Drosophila_simulans', 'Drosophila_simulans',\n",
              "       'Drosophila_simulans', 'Drosophila_simulans',\n",
              "       'Drosophila_simulans', 'Drosophila_simulans',\n",
              "       'Drosophila_simulans', 'Drosophila_simulans',\n",
              "       'Drosophila_simulans', 'Drosophila_simulans',\n",
              "       'Drosophila_simulans', 'Drosophila_simulans',\n",
              "       'Drosophila_simulans', 'Drosophila_simulans',\n",
              "       'Drosophila_simulans', 'Drosophila_simulans',\n",
              "       'Drosophila_simulans', 'Drosophila_simulans',\n",
              "       'Drosophila_subquinaria', 'Drosophila_subquinaria',\n",
              "       'Drosophila_subquinaria', 'Drosophila_subquinaria',\n",
              "       'Drosophila_subquinaria', 'Drosophila_subquinaria',\n",
              "       'Drosophila_subquinaria', 'Drosophila_subquinaria',\n",
              "       'Drosophila_subquinaria', 'Drosophila_subquinaria',\n",
              "       'Drosophila_subquinaria', 'Drosophila_subquinaria',\n",
              "       'Drosophila_subquinaria', 'Drosophila_subquinaria',\n",
              "       'Drosophila_subquinaria', 'Drosophila_subquinaria',\n",
              "       'Drosophila_subquinaria', 'Drosophila_subquinaria',\n",
              "       'Drosophila_subquinaria', 'Drosophila_subquinaria',\n",
              "       'Drosophila_subquinaria', 'Drosophila_subquinaria',\n",
              "       'Drosophila_subquinaria', 'Drosophila_subquinaria',\n",
              "       'Drosophila_subquinaria', 'Drosophila_subquinaria',\n",
              "       'Drosophila_subquinaria', 'Drosophila_subquinaria',\n",
              "       'Drosophila_subquinaria', 'Drosophila_subquinaria',\n",
              "       'Drosophila_subquinaria', 'Drosophila_subquinaria',\n",
              "       'Drosophila_subquinaria', 'Drosophila_subquinaria',\n",
              "       'Drosophila_subquinaria', 'Drosophila_subquinaria',\n",
              "       'Drosophila_subquinaria', 'Drosophila_subquinaria',\n",
              "       'Drosophila_subquinaria', 'Drosophila_subquinaria',\n",
              "       'Drosophila_subquinaria', 'Drosophila_subquinaria',\n",
              "       'Drosophila_subquinaria', 'Drosophila_subquinaria',\n",
              "       'Drosophila_subquinaria', 'Drosophila_subquinaria',\n",
              "       'Drosophila_subquinaria', 'Drosophila_subquinaria',\n",
              "       'Drosophila_subquinaria', 'Drosophila_subquinaria',\n",
              "       'Drosophila_subquinaria', 'Drosophila_subquinaria',\n",
              "       'Drosophila_subquinaria', 'Drosophila_subquinaria',\n",
              "       'Drosophila_subquinaria', 'Drosophila_subquinaria',\n",
              "       'Drosophila_subquinaria', 'Drosophila_subquinaria',\n",
              "       'Drosophila_subquinaria', 'Drosophila_subquinaria',\n",
              "       'Drosophila_subquinaria', 'Drosophila_subquinaria',\n",
              "       'Drosophila_subquinaria', 'Drosophila_subquinaria',\n",
              "       'Drosophila_subquinaria', 'Drosophila_subquinaria',\n",
              "       'Drosophila_subquinaria', 'Drosophila_subquinaria',\n",
              "       'Drosophila_subquinaria', 'Drosophila_subquinaria',\n",
              "       'Drosophila_subquinaria', 'Drosophila_subquinaria',\n",
              "       'Drosophila_subquinaria', 'Drosophila_subquinaria',\n",
              "       'Drosophila_subquinaria', 'Drosophila_subquinaria',\n",
              "       'Drosophila_subquinaria', 'Drosophila_subquinaria',\n",
              "       'Drosophila_subquinaria', 'Drosophila_subquinaria',\n",
              "       'Drosophila_subquinaria', 'Drosophila_subquinaria',\n",
              "       'Drosophila_subquinaria', 'Drosophila_subquinaria',\n",
              "       'Drosophila_subquinaria', 'Drosophila_subquinaria',\n",
              "       'Drosophila_subquinaria', 'Drosophila_subquinaria',\n",
              "       'Drosophila_subquinaria', 'Drosophila_subquinaria',\n",
              "       'Drosophila_subquinaria', 'Drosophila_subquinaria',\n",
              "       'Drosophila_subquinaria', 'Drosophila_subquinaria',\n",
              "       'Drosophila_subquinaria', 'Drosophila_subquinaria',\n",
              "       'Drosophila_subquinaria', 'Drosophila_subquinaria',\n",
              "       'Drosophila_subquinaria', 'Drosophila_subquinaria',\n",
              "       'Drosophila_subquinaria', 'Drosophila_subquinaria',\n",
              "       'Drosophila_subquinaria', 'Drosophila_subquinaria',\n",
              "       'Drosophila_subquinaria', 'Drosophila_subquinaria',\n",
              "       'Drosophila_subquinaria', 'Drosophila_subquinaria',\n",
              "       'Drosophila_subquinaria', 'Drosophila_virilis',\n",
              "       'Drosophila_virilis', 'Drosophila_virilis', 'Drosophila_virilis'],\n",
              "      dtype=object)"
            ]
          },
          "metadata": {},
          "execution_count": 24
        }
      ],
      "source": [
        "le.inverse_transform(one_hot_encoded_data['Target'])"
      ]
    },
    {
      "cell_type": "code",
      "execution_count": 25,
      "id": "655cd04a-43ba-4306-9b9c-05f660d9e8dc",
      "metadata": {
        "tags": [],
        "colab": {
          "base_uri": "https://localhost:8080/"
        },
        "id": "655cd04a-43ba-4306-9b9c-05f660d9e8dc",
        "outputId": "a0ae89dd-dff2-49ef-8c13-5112ff099668"
      },
      "outputs": [
        {
          "output_type": "stream",
          "name": "stdout",
          "text": [
            "Training Dataset: (345, 686)\n",
            "Test Dataset: (149, 686)\n"
          ]
        }
      ],
      "source": [
        "target = one_hot_encoded_data['Target']\n",
        "one_hot_encoded_data_x = one_hot_encoded_data.loc[:, 'S1_A':'S663_T']\n",
        "x_train, x_test, y_train, y_test = model_selection.train_test_split(one_hot_encoded_data_x, target, test_size = 0.3, random_state =0)\n",
        "print(\"Training Dataset:\", x_train.shape)\n",
        "print(\"Test Dataset:\", x_test.shape)"
      ]
    },
    {
      "cell_type": "markdown",
      "id": "4c07cd4e-be4e-4dfe-bbfe-41761e9ff8cd",
      "metadata": {
        "id": "4c07cd4e-be4e-4dfe-bbfe-41761e9ff8cd"
      },
      "source": [
        "### 4.1.3. Entrenamiento del modelo"
      ]
    },
    {
      "cell_type": "code",
      "execution_count": 26,
      "id": "a666d967-bcd5-4143-9590-625671dc2f2c",
      "metadata": {
        "tags": [],
        "colab": {
          "base_uri": "https://localhost:8080/"
        },
        "id": "a666d967-bcd5-4143-9590-625671dc2f2c",
        "outputId": "04bf37af-3e4c-4baf-c957-191c8c618315"
      },
      "outputs": [
        {
          "output_type": "stream",
          "name": "stdout",
          "text": [
            "RandomForestClassifier()\n"
          ]
        }
      ],
      "source": [
        "classifier = ensemble.RandomForestClassifier()\n",
        "model = classifier.fit(x_train,y_train)\n",
        "print(model)"
      ]
    },
    {
      "cell_type": "code",
      "execution_count": 27,
      "id": "2d2dc35a-731f-432e-8681-a1b9ef29aefd",
      "metadata": {
        "tags": [],
        "colab": {
          "base_uri": "https://localhost:8080/"
        },
        "id": "2d2dc35a-731f-432e-8681-a1b9ef29aefd",
        "outputId": "5deb9bed-9b9a-4194-d497-8458d61f6336"
      },
      "outputs": [
        {
          "output_type": "stream",
          "name": "stdout",
          "text": [
            "     S1_A  S1_N  S2_N  S2_T  S3_C  S3_N  S3_T  S4_G  S4_N  S5_C  ...  S657_T  \\\n",
            "339     0     1     1     0     0     1     0     0     1     0  ...       1   \n",
            "96      0     1     1     0     0     1     0     0     1     0  ...       1   \n",
            "326     0     1     1     0     0     1     0     0     1     0  ...       1   \n",
            "245     0     1     1     0     0     1     0     0     1     0  ...       1   \n",
            "76      1     0     0     1     0     0     1     1     0     0  ...       1   \n",
            "..    ...   ...   ...   ...   ...   ...   ...   ...   ...   ...  ...     ...   \n",
            "4       1     0     0     1     0     0     1     1     0     0  ...       1   \n",
            "418     0     1     1     0     0     1     0     0     1     0  ...       1   \n",
            "175     0     1     1     0     0     1     0     0     1     0  ...       1   \n",
            "453     0     1     1     0     0     1     0     0     1     0  ...       1   \n",
            "5       1     0     0     1     0     0     1     1     0     0  ...       1   \n",
            "\n",
            "     S660_A  S660_G  S661_G  S661_T  S662_G  S662_T  S663_C  S663_G  S663_T  \n",
            "339       1       0       0       1       0       1       0       0       1  \n",
            "96        1       0       0       1       0       1       0       0       1  \n",
            "326       1       0       0       1       0       1       0       0       1  \n",
            "245       1       0       0       1       0       1       0       0       1  \n",
            "76        1       0       0       1       0       1       0       0       1  \n",
            "..      ...     ...     ...     ...     ...     ...     ...     ...     ...  \n",
            "4         1       0       0       1       0       1       0       0       1  \n",
            "418       1       0       0       1       0       1       0       0       1  \n",
            "175       1       0       0       1       0       1       1       0       0  \n",
            "453       1       0       0       1       0       1       0       0       1  \n",
            "5         1       0       0       1       0       1       0       0       1  \n",
            "\n",
            "[149 rows x 686 columns]\n"
          ]
        }
      ],
      "source": [
        "print(x_test)"
      ]
    },
    {
      "cell_type": "code",
      "execution_count": 28,
      "id": "3c8bbd9c-5234-4745-9fb8-0473540b0a73",
      "metadata": {
        "tags": [],
        "colab": {
          "base_uri": "https://localhost:8080/"
        },
        "id": "3c8bbd9c-5234-4745-9fb8-0473540b0a73",
        "outputId": "a5dd2388-8242-4abf-cf16-bff21be4f512"
      },
      "outputs": [
        {
          "output_type": "execute_result",
          "data": {
            "text/plain": [
              "0.9798657718120806"
            ]
          },
          "metadata": {},
          "execution_count": 28
        }
      ],
      "source": [
        "model.score(x_test,y_test)"
      ]
    },
    {
      "cell_type": "markdown",
      "id": "530c72ea-cef9-4cf6-bf76-8f6119804544",
      "metadata": {
        "id": "530c72ea-cef9-4cf6-bf76-8f6119804544"
      },
      "source": [
        "Comparando con la demo, el incremento en el score ronda del 0.6%. Sin embargo, se está trabajando aproximadamente con un 20% de los datos originales.\n",
        "\n",
        "![model-predict-colab.PNG](https://drive.google.com/uc?export=view&id=1nE29f1r9ugqPANMTWoO5dBfxQjo0Przz)"
      ]
    },
    {
      "cell_type": "code",
      "execution_count": 29,
      "id": "7c65dc76-3cb9-4165-9b6c-1ffe35d03eda",
      "metadata": {
        "tags": [],
        "colab": {
          "base_uri": "https://localhost:8080/"
        },
        "id": "7c65dc76-3cb9-4165-9b6c-1ffe35d03eda",
        "outputId": "e1f5d33e-c9ce-43c0-99e2-1fd7fa8a196a"
      },
      "outputs": [
        {
          "output_type": "stream",
          "name": "stdout",
          "text": [
            "              precision    recall  f1-score   support\n",
            "\n",
            "           0       1.00      0.83      0.91         6\n",
            "           1       1.00      1.00      1.00         4\n",
            "           2       1.00      1.00      1.00         1\n",
            "           5       0.75      1.00      0.86         3\n",
            "           6       1.00      1.00      1.00         9\n",
            "           7       1.00      0.50      0.67         2\n",
            "           8       1.00      1.00      1.00         2\n",
            "           9       1.00      1.00      1.00         4\n",
            "          10       1.00      1.00      1.00         8\n",
            "          11       1.00      1.00      1.00         9\n",
            "          12       1.00      1.00      1.00         1\n",
            "          13       1.00      1.00      1.00         1\n",
            "          14       1.00      1.00      1.00        24\n",
            "          15       0.96      1.00      0.98        26\n",
            "          16       0.90      1.00      0.95         9\n",
            "          17       1.00      0.97      0.99        38\n",
            "          18       1.00      1.00      1.00         2\n",
            "\n",
            "    accuracy                           0.98       149\n",
            "   macro avg       0.98      0.96      0.96       149\n",
            "weighted avg       0.98      0.98      0.98       149\n",
            "\n",
            "[15  9 15 14  8  1 10 15 16 16 15  9 15 15 11 15 14 18 15  5  9 16 17  8\n",
            "  5 15  1 15 15 14 14 17 18 17 11 17 10 17 14 15 17  5 11 10  7  0 11 10\n",
            " 17 17  9 17 16 14 17  1 15 11 16 15 17 14 17 17 17 17  1 17 15 10  6 17\n",
            " 15 15 14 17 17 17 15 10 15 17 15 17 14 17 15 11  6 15 16 17 11 16 16  6\n",
            " 15  6 14 17 14  6 15  0 17 14 14 15 11 10  0 14  0 17 17 14 17 14 16 14\n",
            "  6 14 14 11 15  6 13 17 17 17 17 10  6 17 14 14 15 14 17 14  6 16  2 14\n",
            "  0 17 12 17  5]\n"
          ]
        }
      ],
      "source": [
        "y_pred = model.predict(x_test)\n",
        "report = metrics.classification_report(y_test,y_pred)\n",
        "print(report)\n",
        "print(y_pred)"
      ]
    },
    {
      "cell_type": "code",
      "execution_count": 30,
      "id": "0b56b89f-2515-490a-a7c4-ffe3069901e5",
      "metadata": {
        "tags": [],
        "colab": {
          "base_uri": "https://localhost:8080/"
        },
        "id": "0b56b89f-2515-490a-a7c4-ffe3069901e5",
        "outputId": "5b911d9b-e67c-4bfc-8240-e18008b95f40"
      },
      "outputs": [
        {
          "output_type": "execute_result",
          "data": {
            "text/plain": [
              "0.9766140002092707"
            ]
          },
          "metadata": {},
          "execution_count": 30
        }
      ],
      "source": [
        "cohen_kappa_score(y_test,y_pred)"
      ]
    },
    {
      "cell_type": "markdown",
      "id": "beaf2916-e207-4cb6-aff9-0524a2ae1d6e",
      "metadata": {
        "id": "beaf2916-e207-4cb6-aff9-0524a2ae1d6e"
      },
      "source": [
        "Aquí también podemos observar esta diferencia mínima obtenida para *cohen_kappa_score*:\n",
        "\n",
        "![cohen.PNG](https://drive.google.com/uc?export=view&id=1Javqh3SV8yBpXeEtzsHf8ffPq20iFpzD)\n"
      ]
    },
    {
      "cell_type": "code",
      "execution_count": 31,
      "id": "70f47abc-9054-4ffc-bb6d-bb0e17ad0ef2",
      "metadata": {
        "tags": [],
        "colab": {
          "base_uri": "https://localhost:8080/"
        },
        "id": "70f47abc-9054-4ffc-bb6d-bb0e17ad0ef2",
        "outputId": "56732241-fdb8-42f2-fd38-97f714805955"
      },
      "outputs": [
        {
          "output_type": "execute_result",
          "data": {
            "text/plain": [
              "array(['Drosophila_recens', 'Drosophila_mettleri', 'Drosophila_recens',\n",
              "       'Drosophila_pachea', 'Drosophila_melanogaster',\n",
              "       'Drosophila_arizonae', 'Drosophila_mojavensis',\n",
              "       'Drosophila_recens', 'Drosophila_simulans', 'Drosophila_simulans',\n",
              "       'Drosophila_recens', 'Drosophila_mettleri', 'Drosophila_recens',\n",
              "       'Drosophila_recens', 'Drosophila_montana', 'Drosophila_recens',\n",
              "       'Drosophila_pachea', 'Drosophila_virilis', 'Drosophila_recens',\n",
              "       'Drosophila_falleni', 'Drosophila_mettleri', 'Drosophila_simulans',\n",
              "       'Drosophila_subquinaria', 'Drosophila_melanogaster',\n",
              "       'Drosophila_falleni', 'Drosophila_recens', 'Drosophila_arizonae',\n",
              "       'Drosophila_recens', 'Drosophila_recens', 'Drosophila_pachea',\n",
              "       'Drosophila_pachea', 'Drosophila_subquinaria',\n",
              "       'Drosophila_virilis', 'Drosophila_subquinaria',\n",
              "       'Drosophila_montana', 'Drosophila_subquinaria',\n",
              "       'Drosophila_mojavensis', 'Drosophila_subquinaria',\n",
              "       'Drosophila_pachea', 'Drosophila_recens', 'Drosophila_subquinaria',\n",
              "       'Drosophila_falleni', 'Drosophila_montana',\n",
              "       'Drosophila_mojavensis', 'Drosophila_mauritiana',\n",
              "       'Drosophila_angor', 'Drosophila_montana', 'Drosophila_mojavensis',\n",
              "       'Drosophila_subquinaria', 'Drosophila_subquinaria',\n",
              "       'Drosophila_mettleri', 'Drosophila_subquinaria',\n",
              "       'Drosophila_simulans', 'Drosophila_pachea',\n",
              "       'Drosophila_subquinaria', 'Drosophila_arizonae',\n",
              "       'Drosophila_recens', 'Drosophila_montana', 'Drosophila_simulans',\n",
              "       'Drosophila_recens', 'Drosophila_subquinaria', 'Drosophila_pachea',\n",
              "       'Drosophila_subquinaria', 'Drosophila_subquinaria',\n",
              "       'Drosophila_subquinaria', 'Drosophila_subquinaria',\n",
              "       'Drosophila_arizonae', 'Drosophila_subquinaria',\n",
              "       'Drosophila_recens', 'Drosophila_mojavensis',\n",
              "       'Drosophila_innubila', 'Drosophila_subquinaria',\n",
              "       'Drosophila_recens', 'Drosophila_recens', 'Drosophila_pachea',\n",
              "       'Drosophila_subquinaria', 'Drosophila_subquinaria',\n",
              "       'Drosophila_subquinaria', 'Drosophila_recens',\n",
              "       'Drosophila_mojavensis', 'Drosophila_recens',\n",
              "       'Drosophila_subquinaria', 'Drosophila_recens',\n",
              "       'Drosophila_subquinaria', 'Drosophila_pachea',\n",
              "       'Drosophila_subquinaria', 'Drosophila_recens',\n",
              "       'Drosophila_montana', 'Drosophila_innubila', 'Drosophila_recens',\n",
              "       'Drosophila_simulans', 'Drosophila_subquinaria',\n",
              "       'Drosophila_montana', 'Drosophila_simulans', 'Drosophila_simulans',\n",
              "       'Drosophila_innubila', 'Drosophila_recens', 'Drosophila_innubila',\n",
              "       'Drosophila_pachea', 'Drosophila_subquinaria', 'Drosophila_pachea',\n",
              "       'Drosophila_innubila', 'Drosophila_recens', 'Drosophila_angor',\n",
              "       'Drosophila_subquinaria', 'Drosophila_pachea', 'Drosophila_pachea',\n",
              "       'Drosophila_recens', 'Drosophila_montana', 'Drosophila_mojavensis',\n",
              "       'Drosophila_angor', 'Drosophila_pachea', 'Drosophila_angor',\n",
              "       'Drosophila_subquinaria', 'Drosophila_subquinaria',\n",
              "       'Drosophila_pachea', 'Drosophila_subquinaria', 'Drosophila_pachea',\n",
              "       'Drosophila_simulans', 'Drosophila_pachea', 'Drosophila_innubila',\n",
              "       'Drosophila_pachea', 'Drosophila_pachea', 'Drosophila_montana',\n",
              "       'Drosophila_recens', 'Drosophila_innubila',\n",
              "       'Drosophila_nigrospiracula', 'Drosophila_subquinaria',\n",
              "       'Drosophila_subquinaria', 'Drosophila_subquinaria',\n",
              "       'Drosophila_subquinaria', 'Drosophila_mojavensis',\n",
              "       'Drosophila_innubila', 'Drosophila_subquinaria',\n",
              "       'Drosophila_pachea', 'Drosophila_pachea', 'Drosophila_recens',\n",
              "       'Drosophila_pachea', 'Drosophila_subquinaria', 'Drosophila_pachea',\n",
              "       'Drosophila_innubila', 'Drosophila_simulans',\n",
              "       'Drosophila_barutani', 'Drosophila_pachea', 'Drosophila_angor',\n",
              "       'Drosophila_subquinaria', 'Drosophila_navojoa',\n",
              "       'Drosophila_subquinaria', 'Drosophila_falleni'], dtype=object)"
            ]
          },
          "metadata": {},
          "execution_count": 31
        }
      ],
      "source": [
        "le.inverse_transform(y_pred)"
      ]
    },
    {
      "cell_type": "code",
      "execution_count": 32,
      "id": "f9270fd1-4bd5-4625-a350-adb522c450dc",
      "metadata": {
        "tags": [],
        "colab": {
          "base_uri": "https://localhost:8080/"
        },
        "id": "f9270fd1-4bd5-4625-a350-adb522c450dc",
        "outputId": "c145d32d-b6e6-4beb-f6af-86c964486e53"
      },
      "outputs": [
        {
          "output_type": "execute_result",
          "data": {
            "text/plain": [
              "array(['Drosophila_recens', 'Drosophila_mettleri', 'Drosophila_recens',\n",
              "       'Drosophila_pachea', 'Drosophila_melanogaster',\n",
              "       'Drosophila_arizonae', 'Drosophila_mojavensis',\n",
              "       'Drosophila_recens', 'Drosophila_simulans', 'Drosophila_simulans',\n",
              "       'Drosophila_recens', 'Drosophila_mettleri', 'Drosophila_recens',\n",
              "       'Drosophila_recens', 'Drosophila_montana', 'Drosophila_recens',\n",
              "       'Drosophila_pachea', 'Drosophila_virilis', 'Drosophila_recens',\n",
              "       'Drosophila_falleni', 'Drosophila_mettleri', 'Drosophila_simulans',\n",
              "       'Drosophila_subquinaria', 'Drosophila_melanogaster',\n",
              "       'Drosophila_falleni', 'Drosophila_recens', 'Drosophila_arizonae',\n",
              "       'Drosophila_recens', 'Drosophila_subquinaria', 'Drosophila_pachea',\n",
              "       'Drosophila_pachea', 'Drosophila_subquinaria',\n",
              "       'Drosophila_virilis', 'Drosophila_subquinaria',\n",
              "       'Drosophila_montana', 'Drosophila_subquinaria',\n",
              "       'Drosophila_mojavensis', 'Drosophila_subquinaria',\n",
              "       'Drosophila_pachea', 'Drosophila_recens', 'Drosophila_subquinaria',\n",
              "       'Drosophila_falleni', 'Drosophila_montana',\n",
              "       'Drosophila_mojavensis', 'Drosophila_mauritiana',\n",
              "       'Drosophila_angor', 'Drosophila_montana', 'Drosophila_mojavensis',\n",
              "       'Drosophila_subquinaria', 'Drosophila_subquinaria',\n",
              "       'Drosophila_mettleri', 'Drosophila_subquinaria',\n",
              "       'Drosophila_simulans', 'Drosophila_pachea',\n",
              "       'Drosophila_subquinaria', 'Drosophila_arizonae',\n",
              "       'Drosophila_recens', 'Drosophila_montana', 'Drosophila_simulans',\n",
              "       'Drosophila_recens', 'Drosophila_subquinaria', 'Drosophila_pachea',\n",
              "       'Drosophila_subquinaria', 'Drosophila_subquinaria',\n",
              "       'Drosophila_subquinaria', 'Drosophila_subquinaria',\n",
              "       'Drosophila_arizonae', 'Drosophila_subquinaria',\n",
              "       'Drosophila_recens', 'Drosophila_mojavensis',\n",
              "       'Drosophila_innubila', 'Drosophila_subquinaria',\n",
              "       'Drosophila_recens', 'Drosophila_recens', 'Drosophila_pachea',\n",
              "       'Drosophila_subquinaria', 'Drosophila_subquinaria',\n",
              "       'Drosophila_subquinaria', 'Drosophila_recens',\n",
              "       'Drosophila_mojavensis', 'Drosophila_recens',\n",
              "       'Drosophila_subquinaria', 'Drosophila_recens',\n",
              "       'Drosophila_subquinaria', 'Drosophila_pachea',\n",
              "       'Drosophila_subquinaria', 'Drosophila_recens',\n",
              "       'Drosophila_montana', 'Drosophila_innubila', 'Drosophila_recens',\n",
              "       'Drosophila_simulans', 'Drosophila_subquinaria',\n",
              "       'Drosophila_montana', 'Drosophila_simulans', 'Drosophila_simulans',\n",
              "       'Drosophila_innubila', 'Drosophila_recens', 'Drosophila_innubila',\n",
              "       'Drosophila_pachea', 'Drosophila_subquinaria', 'Drosophila_pachea',\n",
              "       'Drosophila_innubila', 'Drosophila_recens', 'Drosophila_angor',\n",
              "       'Drosophila_subquinaria', 'Drosophila_pachea', 'Drosophila_pachea',\n",
              "       'Drosophila_recens', 'Drosophila_montana', 'Drosophila_mojavensis',\n",
              "       'Drosophila_angor', 'Drosophila_pachea', 'Drosophila_angor',\n",
              "       'Drosophila_subquinaria', 'Drosophila_subquinaria',\n",
              "       'Drosophila_pachea', 'Drosophila_subquinaria', 'Drosophila_pachea',\n",
              "       'Drosophila_simulans', 'Drosophila_pachea', 'Drosophila_innubila',\n",
              "       'Drosophila_pachea', 'Drosophila_pachea', 'Drosophila_montana',\n",
              "       'Drosophila_recens', 'Drosophila_innubila',\n",
              "       'Drosophila_nigrospiracula', 'Drosophila_subquinaria',\n",
              "       'Drosophila_subquinaria', 'Drosophila_subquinaria',\n",
              "       'Drosophila_subquinaria', 'Drosophila_mojavensis',\n",
              "       'Drosophila_innubila', 'Drosophila_subquinaria',\n",
              "       'Drosophila_pachea', 'Drosophila_pachea', 'Drosophila_recens',\n",
              "       'Drosophila_pachea', 'Drosophila_subquinaria', 'Drosophila_pachea',\n",
              "       'Drosophila_innubila', 'Drosophila_mauritiana',\n",
              "       'Drosophila_barutani', 'Drosophila_pachea', 'Drosophila_angor',\n",
              "       'Drosophila_subquinaria', 'Drosophila_navojoa',\n",
              "       'Drosophila_subquinaria', 'Drosophila_angor'], dtype=object)"
            ]
          },
          "metadata": {},
          "execution_count": 32
        }
      ],
      "source": [
        "le.inverse_transform(y_test)"
      ]
    },
    {
      "cell_type": "code",
      "execution_count": 33,
      "id": "26e8e3b1-bf34-4f2f-b2b7-8f631b27df1a",
      "metadata": {
        "tags": [],
        "colab": {
          "base_uri": "https://localhost:8080/"
        },
        "id": "26e8e3b1-bf34-4f2f-b2b7-8f631b27df1a",
        "outputId": "9ef144db-03a7-4f5f-c9e6-d8c2c52693db"
      },
      "outputs": [
        {
          "output_type": "stream",
          "name": "stdout",
          "text": [
            "                         Esp                      Obs\n",
            "0          Drosophila_recens        Drosophila_recens\n",
            "1        Drosophila_mettleri      Drosophila_mettleri\n",
            "2          Drosophila_recens        Drosophila_recens\n",
            "3          Drosophila_pachea        Drosophila_pachea\n",
            "4    Drosophila_melanogaster  Drosophila_melanogaster\n",
            "..                       ...                      ...\n",
            "144         Drosophila_angor         Drosophila_angor\n",
            "145   Drosophila_subquinaria   Drosophila_subquinaria\n",
            "146       Drosophila_navojoa       Drosophila_navojoa\n",
            "147   Drosophila_subquinaria   Drosophila_subquinaria\n",
            "148       Drosophila_falleni         Drosophila_angor\n",
            "\n",
            "[149 rows x 2 columns]\n"
          ]
        }
      ],
      "source": [
        "pred_df = pd.DataFrame()\n",
        "pred_df['Esp'] = le.inverse_transform(y_pred)\n",
        "pred_df['Obs'] = le.inverse_transform(y_test)\n",
        "print(pred_df)"
      ]
    },
    {
      "cell_type": "markdown",
      "id": "c3a264ce-528d-4a24-ad95-59add6d3d3c5",
      "metadata": {
        "tags": [],
        "id": "c3a264ce-528d-4a24-ad95-59add6d3d3c5"
      },
      "source": [
        "## 4.2 Evaluando el modelo"
      ]
    },
    {
      "cell_type": "markdown",
      "id": "94f0a269-d6ab-4bd1-9a7e-bab9d8d57636",
      "metadata": {
        "id": "94f0a269-d6ab-4bd1-9a7e-bab9d8d57636"
      },
      "source": [
        "### 4.2.1 One-hot encoding del conjunto de prueba"
      ]
    },
    {
      "cell_type": "code",
      "execution_count": 34,
      "id": "49c00ece-8bb4-451c-8abd-7df3cc560a7a",
      "metadata": {
        "tags": [],
        "colab": {
          "base_uri": "https://localhost:8080/"
        },
        "id": "49c00ece-8bb4-451c-8abd-7df3cc560a7a",
        "outputId": "9fc21ee1-314d-4179-b60d-f2512ea08e04"
      },
      "outputs": [
        {
          "output_type": "execute_result",
          "data": {
            "text/plain": [
              "<bound method NDFrame.head of                      ID S1 S2 S3 S4 S5 S6 S7 S8 S9  ... S645 S646 S648 S651  \\\n",
              "0    DQ471543_110189412  A  T  T  G  G  A  A  C  T  ...    T    T    A    C   \n",
              "1    DQ471554_110189434  A  T  T  G  G  A  A  C  T  ...    T    C    A    C   \n",
              "2     DQ383677_87475153  N  N  N  N  N  N  A  C  T  ...    T    C    T    C   \n",
              "3     DQ383678_87475155  N  N  N  N  N  N  A  C  T  ...    T    C    T    C   \n",
              "4     DQ383671_87475141  N  N  N  N  N  N  A  C  T  ...    T    C    T    C   \n",
              "..                  ... .. .. .. .. .. .. .. .. ..  ...  ...  ...  ...  ...   \n",
              "116            Auxiliar  A  A  A  A  A  A  A  A  A  ...    A    A    A    A   \n",
              "117            Auxiliar  C  C  C  C  C  C  C  C  C  ...    C    C    C    C   \n",
              "118            Auxiliar  T  T  T  T  T  T  T  T  T  ...    T    T    T    T   \n",
              "119            Auxiliar  G  G  G  G  G  G  G  G  G  ...    G    G    G    G   \n",
              "120            Auxiliar  N  N  N  N  N  N  N  N  N  ...    N    N    N    N   \n",
              "\n",
              "    S654 S657 S660 S661 S662 S663  \n",
              "0      A    T    A    T    T    T  \n",
              "1      A    T    A    T    T    T  \n",
              "2      A    T    A    T    T    T  \n",
              "3      A    T    A    T    T    T  \n",
              "4      A    T    A    T    T    T  \n",
              "..   ...  ...  ...  ...  ...  ...  \n",
              "116    A    A    A    A    A    A  \n",
              "117    C    C    C    C    C    C  \n",
              "118    T    T    T    T    T    T  \n",
              "119    G    G    G    G    G    G  \n",
              "120    N    N    N    N    N    N  \n",
              "\n",
              "[121 rows x 267 columns]>"
            ]
          },
          "metadata": {},
          "execution_count": 34
        }
      ],
      "source": [
        "data_het.head"
      ]
    },
    {
      "cell_type": "code",
      "execution_count": 35,
      "id": "526dd4ff-86c0-488c-a755-f07e6feb85ec",
      "metadata": {
        "tags": [],
        "colab": {
          "base_uri": "https://localhost:8080/"
        },
        "id": "526dd4ff-86c0-488c-a755-f07e6feb85ec",
        "outputId": "c5b49415-a504-405d-f6ea-1d594af51d0f"
      },
      "outputs": [
        {
          "output_type": "execute_result",
          "data": {
            "text/plain": [
              "Index(['S1', 'S2', 'S3', 'S4', 'S5', 'S6', 'S7', 'S8', 'S9', 'S10',\n",
              "       ...\n",
              "       'S645', 'S646', 'S648', 'S651', 'S654', 'S657', 'S660', 'S661', 'S662',\n",
              "       'S663'],\n",
              "      dtype='object', length=266)"
            ]
          },
          "metadata": {},
          "execution_count": 35
        }
      ],
      "source": [
        "df_X_test = data_het.loc[:, 'S1':'S663']\n",
        "df_X_test.columns"
      ]
    },
    {
      "cell_type": "code",
      "execution_count": 36,
      "id": "09674619-c796-48a1-8a8a-85c94fa16471",
      "metadata": {
        "tags": [],
        "colab": {
          "base_uri": "https://localhost:8080/"
        },
        "id": "09674619-c796-48a1-8a8a-85c94fa16471",
        "outputId": "fa69c850-1cf5-45c2-c20e-5ce84816adca"
      },
      "outputs": [
        {
          "output_type": "stream",
          "name": "stdout",
          "text": [
            "     S1_A  S1_C  S1_G  S1_N  S1_T  S2_A  S2_C  S2_G  S2_N  S2_T  ...  S662_A  \\\n",
            "0       1     0     0     0     0     0     0     0     0     1  ...       0   \n",
            "1       1     0     0     0     0     0     0     0     0     1  ...       0   \n",
            "2       0     0     0     1     0     0     0     0     1     0  ...       0   \n",
            "3       0     0     0     1     0     0     0     0     1     0  ...       0   \n",
            "4       0     0     0     1     0     0     0     0     1     0  ...       0   \n",
            "..    ...   ...   ...   ...   ...   ...   ...   ...   ...   ...  ...     ...   \n",
            "116     1     0     0     0     0     1     0     0     0     0  ...       1   \n",
            "117     0     1     0     0     0     0     1     0     0     0  ...       0   \n",
            "118     0     0     0     0     1     0     0     0     0     1  ...       0   \n",
            "119     0     0     1     0     0     0     0     1     0     0  ...       0   \n",
            "120     0     0     0     1     0     0     0     0     1     0  ...       0   \n",
            "\n",
            "     S662_C  S662_G  S662_N  S662_T  S663_A  S663_C  S663_G  S663_N  S663_T  \n",
            "0         0       0       0       1       0       0       0       0       1  \n",
            "1         0       0       0       1       0       0       0       0       1  \n",
            "2         0       0       0       1       0       0       0       0       1  \n",
            "3         0       0       0       1       0       0       0       0       1  \n",
            "4         0       0       0       1       0       0       0       0       1  \n",
            "..      ...     ...     ...     ...     ...     ...     ...     ...     ...  \n",
            "116       0       0       0       0       1       0       0       0       0  \n",
            "117       1       0       0       0       0       1       0       0       0  \n",
            "118       0       0       0       1       0       0       0       0       1  \n",
            "119       0       1       0       0       0       0       1       0       0  \n",
            "120       0       0       1       0       0       0       0       1       0  \n",
            "\n",
            "[121 rows x 1330 columns]\n"
          ]
        }
      ],
      "source": [
        "one_hot_encoded_test = pd.get_dummies(df_X_test, columns = df_X_test.columns, dtype = int)\n",
        "print(one_hot_encoded_test)"
      ]
    },
    {
      "cell_type": "code",
      "execution_count": 37,
      "id": "56fe434e-2fd8-43ba-a163-a43e08bc3c3a",
      "metadata": {
        "tags": [],
        "colab": {
          "base_uri": "https://localhost:8080/"
        },
        "id": "56fe434e-2fd8-43ba-a163-a43e08bc3c3a",
        "outputId": "3f8c4df4-9935-40ed-de9c-c42b200a24a8"
      },
      "outputs": [
        {
          "output_type": "stream",
          "name": "stdout",
          "text": [
            "     S1_A  S1_C  S1_G  S1_N  S1_T  S2_A  S2_C  S2_G  S2_N  S2_T  ...  S662_A  \\\n",
            "0       1     0     0     0     0     0     0     0     0     1  ...       0   \n",
            "1       1     0     0     0     0     0     0     0     0     1  ...       0   \n",
            "2       0     0     0     1     0     0     0     0     1     0  ...       0   \n",
            "3       0     0     0     1     0     0     0     0     1     0  ...       0   \n",
            "4       0     0     0     1     0     0     0     0     1     0  ...       0   \n",
            "..    ...   ...   ...   ...   ...   ...   ...   ...   ...   ...  ...     ...   \n",
            "111     1     0     0     0     0     0     0     0     0     1  ...       0   \n",
            "112     1     0     0     0     0     0     0     0     0     1  ...       0   \n",
            "113     0     0     0     1     0     0     0     0     1     0  ...       0   \n",
            "114     0     0     0     1     0     0     0     0     1     0  ...       0   \n",
            "115     0     0     0     1     0     0     0     0     1     0  ...       0   \n",
            "\n",
            "     S662_C  S662_G  S662_N  S662_T  S663_A  S663_C  S663_G  S663_N  S663_T  \n",
            "0         0       0       0       1       0       0       0       0       1  \n",
            "1         0       0       0       1       0       0       0       0       1  \n",
            "2         0       0       0       1       0       0       0       0       1  \n",
            "3         0       0       0       1       0       0       0       0       1  \n",
            "4         0       0       0       1       0       0       0       0       1  \n",
            "..      ...     ...     ...     ...     ...     ...     ...     ...     ...  \n",
            "111       0       0       0       1       0       0       0       0       1  \n",
            "112       0       0       0       1       0       0       0       0       1  \n",
            "113       0       0       0       1       0       0       0       0       1  \n",
            "114       0       0       0       1       0       0       0       0       1  \n",
            "115       0       0       0       1       0       0       0       0       1  \n",
            "\n",
            "[116 rows x 1330 columns]\n"
          ]
        }
      ],
      "source": [
        "one_hot_encoded_test = one_hot_encoded_test.iloc[:-1, :]\n",
        "one_hot_encoded_test = one_hot_encoded_test.iloc[:-1, :]\n",
        "one_hot_encoded_test = one_hot_encoded_test.iloc[:-1, :]\n",
        "one_hot_encoded_test = one_hot_encoded_test.iloc[:-1, :]\n",
        "one_hot_encoded_test = one_hot_encoded_test.iloc[:-1, :]\n",
        "print(one_hot_encoded_test)\n"
      ]
    },
    {
      "cell_type": "code",
      "execution_count": 38,
      "id": "4753cb03-ad5d-454f-afef-aca69cebe0f3",
      "metadata": {
        "tags": [],
        "id": "4753cb03-ad5d-454f-afef-aca69cebe0f3"
      },
      "outputs": [],
      "source": [
        "one_hot_encoded_test = one_hot_encoded_test[x_train.columns]"
      ]
    },
    {
      "cell_type": "code",
      "execution_count": 39,
      "id": "7deb232a-76f1-4f55-b699-21a62bed2902",
      "metadata": {
        "tags": [],
        "colab": {
          "base_uri": "https://localhost:8080/"
        },
        "id": "7deb232a-76f1-4f55-b699-21a62bed2902",
        "outputId": "cc133d69-2fbb-4a44-dce1-553d667a1997"
      },
      "outputs": [
        {
          "output_type": "execute_result",
          "data": {
            "text/plain": [
              "array(['Drosophila_angor', 'Drosophila_angor', 'Drosophila_arizonae',\n",
              "       'Drosophila_arizonae', 'Drosophila_arizonae',\n",
              "       'Drosophila_barutani', 'Drosophila_falleni', 'Drosophila_falleni',\n",
              "       'Drosophila_falleni', 'Drosophila_innubila', 'Drosophila_innubila',\n",
              "       'Drosophila_innubila', 'Drosophila_innubila',\n",
              "       'Drosophila_melanogaster', 'Drosophila_melanogaster',\n",
              "       'Drosophila_mettleri', 'Drosophila_mettleri',\n",
              "       'Drosophila_mettleri', 'Drosophila_mettleri',\n",
              "       'Drosophila_mettleri', 'Drosophila_mojavensis',\n",
              "       'Drosophila_mojavensis', 'Drosophila_mojavensis',\n",
              "       'Drosophila_mojavensis', 'Drosophila_mojavensis',\n",
              "       'Drosophila_mojavensis', 'Drosophila_mojavensis',\n",
              "       'Drosophila_mojavensis', 'Drosophila_mojavensis',\n",
              "       'Drosophila_montana', 'Drosophila_montana', 'Drosophila_montana',\n",
              "       'Drosophila_montana', 'Drosophila_montana', 'Drosophila_montana',\n",
              "       'Drosophila_montana', 'Drosophila_montana',\n",
              "       'Drosophila_nigrospiracula', 'Drosophila_nigrospiracula',\n",
              "       'Drosophila_pachea', 'Drosophila_pachea', 'Drosophila_pachea',\n",
              "       'Drosophila_pachea', 'Drosophila_pachea', 'Drosophila_pachea',\n",
              "       'Drosophila_pachea', 'Drosophila_pachea', 'Drosophila_pachea',\n",
              "       'Drosophila_pachea', 'Drosophila_pachea', 'Drosophila_pachea',\n",
              "       'Drosophila_pachea', 'Drosophila_pachea', 'Drosophila_pachea',\n",
              "       'Drosophila_pachea', 'Drosophila_recens', 'Drosophila_recens',\n",
              "       'Drosophila_recens', 'Drosophila_recens', 'Drosophila_recens',\n",
              "       'Drosophila_recens', 'Drosophila_recens', 'Drosophila_recens',\n",
              "       'Drosophila_recens', 'Drosophila_recens', 'Drosophila_recens',\n",
              "       'Drosophila_recens', 'Drosophila_recens', 'Drosophila_recens',\n",
              "       'Drosophila_recens', 'Drosophila_recens', 'Drosophila_recens',\n",
              "       'Drosophila_recens', 'Drosophila_recens', 'Drosophila_recens',\n",
              "       'Drosophila_recens', 'Drosophila_recens', 'Drosophila_recens',\n",
              "       'Drosophila_recens', 'Drosophila_recens', 'Drosophila_recens',\n",
              "       'Drosophila_recens', 'Drosophila_simulans', 'Drosophila_simulans',\n",
              "       'Drosophila_simulans', 'Drosophila_simulans',\n",
              "       'Drosophila_simulans', 'Drosophila_subquinaria',\n",
              "       'Drosophila_subquinaria', 'Drosophila_subquinaria',\n",
              "       'Drosophila_subquinaria', 'Drosophila_subquinaria',\n",
              "       'Drosophila_subquinaria', 'Drosophila_subquinaria',\n",
              "       'Drosophila_subquinaria', 'Drosophila_subquinaria',\n",
              "       'Drosophila_subquinaria', 'Drosophila_subquinaria',\n",
              "       'Drosophila_subquinaria', 'Drosophila_subquinaria',\n",
              "       'Drosophila_subquinaria', 'Drosophila_subquinaria',\n",
              "       'Drosophila_subquinaria', 'Drosophila_subquinaria',\n",
              "       'Drosophila_subquinaria', 'Drosophila_subquinaria',\n",
              "       'Drosophila_subquinaria', 'Drosophila_recens',\n",
              "       'Drosophila_subquinaria', 'Drosophila_subquinaria',\n",
              "       'Drosophila_subquinaria', 'Drosophila_subquinaria',\n",
              "       'Drosophila_subquinaria', 'Drosophila_subquinaria',\n",
              "       'Drosophila_virilis', 'Drosophila_virilis'], dtype=object)"
            ]
          },
          "metadata": {},
          "execution_count": 39
        }
      ],
      "source": [
        "pred = model.predict(one_hot_encoded_test)\n",
        "le.inverse_transform(pred)"
      ]
    },
    {
      "cell_type": "code",
      "execution_count": 40,
      "id": "522ad863-587d-4674-ad80-99054de71080",
      "metadata": {
        "tags": [],
        "colab": {
          "base_uri": "https://localhost:8080/"
        },
        "id": "522ad863-587d-4674-ad80-99054de71080",
        "outputId": "6c4443d5-cbd7-4c68-b8d4-f8f96ac3c001"
      },
      "outputs": [
        {
          "output_type": "stream",
          "name": "stdout",
          "text": [
            "(121, 664)\n"
          ]
        }
      ],
      "source": [
        "print(data.shape)"
      ]
    },
    {
      "cell_type": "code",
      "execution_count": 41,
      "id": "0d5dc81b-bfa5-445d-a773-8b527fb434ec",
      "metadata": {
        "tags": [],
        "id": "0d5dc81b-bfa5-445d-a773-8b527fb434ec"
      },
      "outputs": [],
      "source": [
        "df_test = data.iloc[:-1, :]\n",
        "df_test = df_test.iloc[:-1, :]\n",
        "df_test = df_test.iloc[:-1, :]\n",
        "df_test =df_test.iloc[:-1, :]\n",
        "df_test = df_test.iloc[:-1, :]"
      ]
    },
    {
      "cell_type": "code",
      "execution_count": 42,
      "id": "25fd8ac8-acc3-4104-a9dd-53bf1534a0ae",
      "metadata": {
        "tags": [],
        "colab": {
          "base_uri": "https://localhost:8080/"
        },
        "id": "25fd8ac8-acc3-4104-a9dd-53bf1534a0ae",
        "outputId": "3e80b5fb-08fe-4134-d8d7-f6e32dd23111"
      },
      "outputs": [
        {
          "output_type": "stream",
          "name": "stdout",
          "text": [
            "                     ID          prediccion_spp  prediccion_etiqueta\n",
            "0    DQ471543_110189412        Drosophila_angor                    0\n",
            "1    DQ471554_110189434        Drosophila_angor                    0\n",
            "2     DQ383677_87475153     Drosophila_arizonae                    1\n",
            "3     DQ383678_87475155     Drosophila_arizonae                    1\n",
            "4     DQ383671_87475141     Drosophila_arizonae                    1\n",
            "..                  ...                     ...                  ...\n",
            "111   AY154408_25989948  Drosophila_subquinaria                   17\n",
            "112   AY154424_25989980  Drosophila_subquinaria                   17\n",
            "113  DQ851620_114187041  Drosophila_subquinaria                   17\n",
            "114   DQ426803_90018985      Drosophila_virilis                   18\n",
            "115   DQ426800_90018979      Drosophila_virilis                   18\n",
            "\n",
            "[116 rows x 3 columns]\n"
          ]
        }
      ],
      "source": [
        "df_test['prediccion_spp'] = le.inverse_transform(pred)\n",
        "df_test['prediccion_etiqueta'] = pred\n",
        "print(df_test[['ID','prediccion_spp','prediccion_etiqueta']])"
      ]
    },
    {
      "cell_type": "markdown",
      "id": "fca76f69-255a-4844-93d8-02fc85a1e889",
      "metadata": {
        "id": "fca76f69-255a-4844-93d8-02fc85a1e889"
      },
      "source": [
        "Almacenamos los datos de la predicción en un .csv:"
      ]
    },
    {
      "cell_type": "code",
      "execution_count": 43,
      "id": "7ec237a1-24cc-4c94-b476-0ed8d71eb6ed",
      "metadata": {
        "tags": [],
        "id": "7ec237a1-24cc-4c94-b476-0ed8d71eb6ed"
      },
      "outputs": [],
      "source": [
        "predict = df_test[['ID','prediccion_spp','prediccion_etiqueta']]\n",
        "predict.to_csv('Kamikaze.csv', index=False)"
      ]
    }
  ],
  "metadata": {
    "kernelspec": {
      "display_name": "Python 3 (ipykernel)",
      "language": "python",
      "name": "python3"
    },
    "language_info": {
      "codemirror_mode": {
        "name": "ipython",
        "version": 3
      },
      "file_extension": ".py",
      "mimetype": "text/x-python",
      "name": "python",
      "nbconvert_exporter": "python",
      "pygments_lexer": "ipython3",
      "version": "3.10.10"
    },
    "colab": {
      "provenance": [],
      "toc_visible": true,
      "include_colab_link": true
    }
  },
  "nbformat": 4,
  "nbformat_minor": 5
}